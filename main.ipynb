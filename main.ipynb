{
 "cells": [
  {
   "metadata": {},
   "cell_type": "markdown",
   "source": "# Jupyter Snake",
   "id": "369f5adb18f70e28"
  },
  {
   "metadata": {},
   "cell_type": "markdown",
   "source": "## General Imports",
   "id": "e9315ce97005e6"
  },
  {
   "metadata": {
    "ExecuteTime": {
     "end_time": "2025-06-16T13:35:55.108584Z",
     "start_time": "2025-06-16T13:35:33.146881Z"
    }
   },
   "cell_type": "code",
   "source": [
    "import os\n",
    "\n",
    "from algorithms import *\n",
    "from snake_environment import *\n",
    "from states_bracket import *\n",
    "from epsilon_scheduler import *\n",
    "from utils import *"
   ],
   "id": "aa6fafd8e504be95",
   "outputs": [],
   "execution_count": 1
  },
  {
   "metadata": {
    "ExecuteTime": {
     "end_time": "2025-06-16T13:35:55.129258Z",
     "start_time": "2025-06-16T13:35:55.121610Z"
    }
   },
   "cell_type": "code",
   "source": [
    "current_path = os.getcwd()\n",
    "models_path = current_path + \"/models/\""
   ],
   "id": "4a4f59d3759aceff",
   "outputs": [],
   "execution_count": 2
  },
  {
   "metadata": {
    "ExecuteTime": {
     "end_time": "2025-06-16T13:35:55.142825Z",
     "start_time": "2025-06-16T13:35:55.137929Z"
    }
   },
   "cell_type": "code",
   "source": [
    "# Bracketer\n",
    "bracketer = NeighPlusFoodDirectionBracket(neigh=\"V\", radius=1)\n",
    "# General Settings\n",
    "gamma = 0.99\n",
    "lr_v = 0.15\n",
    "n_episodes = 25000\n",
    "epsilon_schedule = LinearEpsilonDecay(eps=1, coefficient=0.999, minimum=0.15)"
   ],
   "id": "ee0e16161157ba00",
   "outputs": [],
   "execution_count": 3
  },
  {
   "metadata": {},
   "cell_type": "markdown",
   "source": "## QLearning",
   "id": "11503fa3833cf455"
  },
  {
   "metadata": {
    "jupyter": {
     "is_executing": true
    }
   },
   "cell_type": "code",
   "source": [
    "# Environment\n",
    "env = SnakeEnv(render_mode=\"nonhuman\", max_step=1000)\n",
    "Q_p = QLearning(env.action_space.n, gamma=gamma, lr_v=lr_v)\n",
    "Q_p.learning(env, epsilon_schedule, n_episodes, bracketer)"
   ],
   "id": "848be81f2c26f158",
   "execution_count": null,
   "outputs": [
    {
     "name": "stdout",
     "output_type": "stream",
     "text": [
      "Episode 9400/25000 : epsilon 0.15 : Average performance -3.975\n"
     ]
    }
   ]
  },
  {
   "metadata": {},
   "cell_type": "code",
   "outputs": [],
   "execution_count": null,
   "source": [
    "name_specs = f'linear from 1 to 015 with 0999 as coefficient vn1 plus fd 1000 max iterations'\n",
    "model_path = f\"{models_path}QLearning gamma {gamma} lr {lr_v} epsilon {name_specs} 2nd\""
   ],
   "id": "51a7da3ef3fd396b"
  },
  {
   "metadata": {},
   "cell_type": "code",
   "outputs": [],
   "execution_count": null,
   "source": "Q_p.save(f\"{model_path}\")",
   "id": "22d9ebfefaa327b2"
  },
  {
   "metadata": {},
   "cell_type": "code",
   "outputs": [],
   "execution_count": null,
   "source": "Q_p.upload(f\"{model_path}\")",
   "id": "351dbaff94d2787"
  },
  {
   "metadata": {},
   "cell_type": "code",
   "outputs": [],
   "execution_count": null,
   "source": [
    "env = SnakeEnv(render_mode=\"human\", max_step=1000)\n",
    "Q_p.play(env, bracketer)"
   ],
   "id": "2fb075866166c940"
  },
  {
   "metadata": {},
   "cell_type": "code",
   "outputs": [],
   "execution_count": null,
   "source": "Q_p.print_q_values(bracketer)",
   "id": "572edab37a6e60b1"
  },
  {
   "metadata": {},
   "cell_type": "markdown",
   "source": "##  SARSA",
   "id": "d08747a7391c783d"
  },
  {
   "metadata": {},
   "cell_type": "code",
   "outputs": [],
   "execution_count": null,
   "source": [
    "# Environment\n",
    "epsilon_schedule = LinearEpsilonDecay(eps=1, coefficient=0.9999, minimum=0.30)\n",
    "env = SnakeEnv(render_mode=\"nonhuman\", max_step=1000)\n",
    "SARSA_p = SARSA(env.action_space.n, gamma=gamma, lr_v=lr_v)\n",
    "bracketer = FoodDirectionBracket()\n",
    "SARSA_p.learning(env, epsilon_schedule, n_episodes=50000, bracketer=bracketer)"
   ],
   "id": "1464d3f86b45b201"
  },
  {
   "metadata": {},
   "cell_type": "code",
   "outputs": [],
   "execution_count": null,
   "source": [
    "name_specs = f'linear from 1 to 030 with 09999 as coefficient vn1 plus fd 1000 max iterations'\n",
    "model_path = f\"{models_path}SARSA gamma {gamma} lr {lr_v} epsilon {name_specs}\""
   ],
   "id": "c86ec49f9d77362a"
  },
  {
   "metadata": {},
   "cell_type": "code",
   "outputs": [],
   "execution_count": null,
   "source": "SARSA.save(f\"{model_path}\")",
   "id": "edf118c9183d5c25"
  },
  {
   "metadata": {},
   "cell_type": "code",
   "outputs": [],
   "execution_count": null,
   "source": "SARSA.upload(f\"{model_path}\")",
   "id": "fd1ad1855e01dfad"
  },
  {
   "metadata": {},
   "cell_type": "code",
   "outputs": [],
   "execution_count": null,
   "source": [
    "env = SnakeEnv(render_mode=\"human\", max_step=1000)\n",
    "SARSA_p.play(env, bracketer)"
   ],
   "id": "11d960d5feaf82f9"
  },
  {
   "metadata": {},
   "cell_type": "code",
   "outputs": [],
   "execution_count": null,
   "source": "SARSA.print_q_values(bracketer)",
   "id": "84397cbeb2106010"
  },
  {
   "metadata": {},
   "cell_type": "markdown",
   "source": "## Monte Carlo",
   "id": "987ac82329f3a6ba"
  },
  {
   "metadata": {},
   "cell_type": "code",
   "outputs": [],
   "execution_count": null,
   "source": [
    "# Environment\n",
    "env = SnakeEnv(render_mode=\"nonhuman\")\n",
    "n_episodes = 5000\n",
    "bracketer = NeighPlusFoodDirectionBracket(neigh=\"V\", radius=1)\n",
    "MC = Montecarlo(env.action_space.n, gamma=gamma, lr_v=lr_v)"
   ],
   "id": "59cbc7be74ff5a6"
  },
  {
   "metadata": {},
   "cell_type": "code",
   "outputs": [],
   "execution_count": null,
   "source": "MC.learning(env, epsilon_schedule, n_episodes, bracketer)",
   "id": "182a3abe81ed491e"
  },
  {
   "metadata": {},
   "cell_type": "code",
   "outputs": [],
   "execution_count": null,
   "source": "model_path = f\"{models_path}MC gamma {gamma} lr {lr_v} epsilon {epsilon_schedule} episodes {n_episodes} bracketer {bracketer.__class__.__name__}\"",
   "id": "fdd39497982bc859"
  },
  {
   "metadata": {},
   "cell_type": "code",
   "outputs": [],
   "execution_count": null,
   "source": "MC.save(f\"{model_path}\")",
   "id": "8934eb2a7e5c0af7"
  },
  {
   "metadata": {},
   "cell_type": "code",
   "outputs": [],
   "execution_count": null,
   "source": "MC.upload(f\"{model_path}\")",
   "id": "9fe5a1874308237b"
  },
  {
   "metadata": {},
   "cell_type": "code",
   "outputs": [],
   "execution_count": null,
   "source": [
    "env = SnakeEnv(render_mode=\"human\")\n",
    "MC.play(env, bracketer)"
   ],
   "id": "75b12ff34f7f0d1b"
  },
  {
   "metadata": {},
   "cell_type": "code",
   "outputs": [],
   "execution_count": null,
   "source": "get_model_average_score(model_name='MC', action_space=env.action_space.n, gamma=gamma, lr_v=lr_v, model_path=model_path, bracketer=bracketer, num_episodes=1000, render_mode='nonhuman')",
   "id": "770864e1817cc2d8"
  },
  {
   "metadata": {},
   "cell_type": "markdown",
   "source": "## Double Deep Q-Learning",
   "id": "a48d9c0f29fded8a"
  },
  {
   "metadata": {},
   "cell_type": "code",
   "outputs": [],
   "execution_count": null,
   "source": [
    "# Environment\n",
    "batch_size = 128\n",
    "memory_size = 10000\n",
    "target_update_freq = 200\n",
    "\n",
    "# Bracketer\n",
    "bracketer = NeighPlusFoodDirectionBracket(neigh=\"V\", radius=1)\n",
    "# General Settings\n",
    "gamma = 0.95\n",
    "lr_v = 0.001\n",
    "epsilon = 0.1\n",
    "n_episodes = 5001\n",
    "epsilon_schedule = LinearEpsilonDecay(eps=1, coefficient=0.999, minimum=0.05)\n",
    "device = \"cuda\" if torch.cuda.is_available() else \"cpu\"\n",
    "# device = 'xpu' if torch.xpu.is_available() else device\n",
    "print(f\"Using device: {device}\")\n",
    "\n",
    "# Environment\n",
    "env = SnakeEnv(render_mode=\"nonhuman\")\n",
    "state_dim = bracketer.get_state_dim()"
   ],
   "id": "e2e4489f943f6111"
  },
  {
   "metadata": {},
   "cell_type": "code",
   "outputs": [],
   "execution_count": null,
   "source": [
    "ddql = DeepDoubleQLearning(\n",
    "    env.action_space.n,\n",
    "    state_dim=state_dim,\n",
    "    gamma=gamma,\n",
    "    lr_v=lr_v,\n",
    "    batch_size=batch_size,\n",
    "    memory_size=memory_size,\n",
    "    target_update_freq=target_update_freq,\n",
    "    device=device\n",
    ")"
   ],
   "id": "15dc6a7ae3fb3ddf"
  },
  {
   "metadata": {},
   "cell_type": "code",
   "outputs": [],
   "execution_count": null,
   "source": "ddql.learning(env, epsilon_schedule, n_episodes, bracketer)",
   "id": "f09f7c748221d137"
  },
  {
   "metadata": {},
   "cell_type": "code",
   "outputs": [],
   "execution_count": null,
   "source": "model_path = f\"{models_path}DDQN gamma {gamma} lr {lr_v} epsilon {epsilon} episodes {n_episodes} bracketer {bracketer.__class__.__name__}\"",
   "id": "6cdd5cc243444fbf"
  },
  {
   "metadata": {},
   "cell_type": "code",
   "outputs": [],
   "execution_count": null,
   "source": "ddql.save(path=f'{model_path}')",
   "id": "7a6d43301af44166"
  },
  {
   "metadata": {},
   "cell_type": "code",
   "outputs": [],
   "execution_count": null,
   "source": "ddql.upload(model_path)",
   "id": "8c7471ced1b66c13"
  },
  {
   "metadata": {},
   "cell_type": "code",
   "outputs": [],
   "execution_count": null,
   "source": [
    "env = SnakeEnv(render_mode='human', max_step=2000)\n",
    " ddql.play(env, bracketer)"
   ],
   "id": "b243ce309fa9108e"
  },
  {
   "metadata": {},
   "cell_type": "code",
   "outputs": [],
   "execution_count": null,
   "source": [
    "get_model_average_score(\n",
    "    model_name='DDQN',\n",
    "    action_space=env.action_space.n,\n",
    "    gamma=gamma,\n",
    "    lr_v=lr_v,\n",
    "    model_path=model_path,\n",
    "    bracketer=bracketer,\n",
    "    num_episodes=1000,\n",
    "    render_mode='nonhuman',\n",
    "    state_dim=state_dim,\n",
    "    batch_size=batch_size,\n",
    "    memory_size=memory_size,\n",
    "    target_update_freq=target_update_freq,\n",
    "    device=device\n",
    ")"
   ],
   "id": "1eecbedb2c2d1185"
  },
  {
   "metadata": {},
   "cell_type": "markdown",
   "source": "## Atari-like DDQL",
   "id": "d34c94e35ab82e5d"
  },
  {
   "metadata": {},
   "cell_type": "code",
   "outputs": [],
   "execution_count": null,
   "source": [
    "batch_size = 32\n",
    "memory_size = 10000\n",
    "target_update_freq = 200\n",
    "\n",
    "# Bracketer\n",
    "width = 20\n",
    "height = 20\n",
    "bracketer = FullGrid(width=width, height=height)\n",
    "# General Settings\n",
    "gamma = 0.95\n",
    "lr_v = 0.001\n",
    "epsilon = 0.1\n",
    "n_episodes = 20001\n",
    "epsilon_schedule = LinearEpsilonDecay(eps=1, coefficient=0.9999, minimum=0.05)\n",
    "device = \"cuda\" if torch.cuda.is_available() else \"cpu\"\n",
    "# device = 'xpu' if torch.xpu.is_available() else device"
   ],
   "id": "cba3a187515931c0"
  },
  {
   "metadata": {},
   "cell_type": "code",
   "outputs": [],
   "execution_count": null,
   "source": [
    "atari = AtariDQL(\n",
    "    env.action_space.n,\n",
    "    width=width,\n",
    "    height=height,\n",
    "    n_layers=1,\n",
    "    gamma=gamma,\n",
    "    lr_v=lr_v,\n",
    "    batch_size=batch_size,\n",
    "    memory_size=memory_size,\n",
    "    target_update_freq=target_update_freq,\n",
    "    device=device\n",
    ")"
   ],
   "id": "e11751110deb61e0"
  },
  {
   "metadata": {},
   "cell_type": "code",
   "outputs": [],
   "execution_count": null,
   "source": "atari.learning(env, epsilon_schedule, n_episodes, bracketer)",
   "id": "d0645c4af527088f"
  },
  {
   "metadata": {},
   "cell_type": "code",
   "outputs": [],
   "execution_count": null,
   "source": "model_path = f\"{models_path}AtariDQL gamma {gamma} lr {lr_v} epsilon {epsilon} episodes {n_episodes} bracketer {bracketer.__class__.__name__}\"",
   "id": "f2979fea486f8af"
  },
  {
   "metadata": {},
   "cell_type": "code",
   "outputs": [],
   "execution_count": null,
   "source": "atari.save(path=f'{model_path}')",
   "id": "67793da849e2387d"
  },
  {
   "metadata": {},
   "cell_type": "code",
   "outputs": [],
   "execution_count": null,
   "source": "atari.upload(model_path)",
   "id": "af3b90d8072394ce"
  },
  {
   "metadata": {},
   "cell_type": "code",
   "outputs": [],
   "execution_count": null,
   "source": [
    "env = SnakeEnv(render_mode='human', max_step=2000)\n",
    "atari.play(env, bracketer)"
   ],
   "id": "7c79facd004d6785"
  },
  {
   "metadata": {},
   "cell_type": "code",
   "outputs": [],
   "execution_count": null,
   "source": [
    "get_model_average_score(\n",
    "    model_name='AtariDDQL',\n",
    "    action_space=env.action_space.n,\n",
    "    gamma=gamma,\n",
    "    lr_v=lr_v,\n",
    "    model_path=model_path,\n",
    "    bracketer=bracketer,\n",
    "    num_episodes=1000,\n",
    "    render_mode='nonhuman',\n",
    "    batch_size=batch_size,\n",
    "    memory_size=memory_size,\n",
    "    target_update_freq=target_update_freq,\n",
    "    device=device,\n",
    "    height=height,\n",
    "    width=width,\n",
    "    n_layers=1\n",
    ")"
   ],
   "id": "f23603ce20b03393"
  }
 ],
 "metadata": {
  "kernelspec": {
   "display_name": "Python 3",
   "language": "python",
   "name": "python3"
  },
  "language_info": {
   "codemirror_mode": {
    "name": "ipython",
    "version": 3
   },
   "file_extension": ".py",
   "mimetype": "text/x-python",
   "name": "python",
   "nbconvert_exporter": "python",
   "pygments_lexer": "ipython3",
   "version": "3.11.9"
  }
 },
 "nbformat": 4,
 "nbformat_minor": 5
}
