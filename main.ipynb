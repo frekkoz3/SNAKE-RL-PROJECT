{
 "cells": [
  {
   "cell_type": "code",
   "execution_count": 1,
   "id": "e66ddfc6",
   "metadata": {
    "ExecuteTime": {
     "end_time": "2025-05-26T18:30:04.815486Z",
     "start_time": "2025-05-26T18:30:02.082557Z"
    }
   },
   "outputs": [],
   "source": [
    "import os\n",
    "\n",
    "from algorithms import *\n",
    "from snake_environment import *\n",
    "from states_bracket import *"
   ]
  },
  {
   "cell_type": "code",
   "execution_count": 2,
   "id": "c5a0433d",
   "metadata": {
    "ExecuteTime": {
     "end_time": "2025-05-26T18:30:06.181034Z",
     "start_time": "2025-05-26T18:30:06.168159Z"
    }
   },
   "outputs": [],
   "source": [
    "def print_q_value(dictionary):\n",
    "    for d in dictionary:\n",
    "        print(f\"State ({d[0]}, {d[1]}), Action {d[2]} : Value {dictionary[d]}\")\n",
    "\n",
    "def opposite_action(action):\n",
    "    return {0:1, 1:0, 2:3, 3:2}[action]"
   ]
  },
  {
   "cell_type": "code",
   "execution_count": 43,
   "id": "09da74c4",
   "metadata": {
    "ExecuteTime": {
     "end_time": "2025-05-26T18:30:07.513081Z",
     "start_time": "2025-05-26T18:30:07.496888Z"
    }
   },
   "outputs": [],
   "source": [
    "# Bracketer\n",
    "bracketer = FoodRelativePositionBracket()\n",
    "# General Settings \n",
    "gamma = 0.9\n",
    "lr_v = 0.15\n",
    "epsilon = 0.4\n",
    "n_episodes = 10000"
   ]
  },
  {
   "cell_type": "markdown",
   "id": "2710c15a",
   "metadata": {},
   "source": [
    "Proviamo il QLearning"
   ]
  },
  {
   "cell_type": "code",
   "execution_count": 44,
   "id": "cacd472b",
   "metadata": {
    "ExecuteTime": {
     "end_time": "2025-05-26T18:20:38.243099Z",
     "start_time": "2025-05-26T18:14:52.892635Z"
    }
   },
   "outputs": [
    {
     "name": "stdout",
     "output_type": "stream",
     "text": [
      "0\n",
      "500\n",
      "1000\n",
      "1500\n",
      "2000\n",
      "2500\n",
      "3000\n",
      "3500\n",
      "4000\n",
      "4500\n",
      "5000\n",
      "5500\n",
      "6000\n",
      "6500\n",
      "7000\n",
      "7500\n",
      "8000\n",
      "8500\n",
      "9000\n",
      "9500\n"
     ]
    }
   ],
   "source": [
    "# Environment\n",
    "env = SnakeEnv(render_mode=\"nonhuman\")\n",
    "Q_p = QLearning(env.action_space.n, gamma=gamma, lr_v=lr_v)\n",
    "Q_p.learning(env, epsilon, n_episodes, bracketer)"
   ]
  },
  {
   "cell_type": "code",
   "execution_count": 59,
   "id": "752bc25e",
   "metadata": {
    "ExecuteTime": {
     "end_time": "2025-05-26T19:03:05.802528Z",
     "start_time": "2025-05-26T19:03:05.784023Z"
    }
   },
   "outputs": [],
   "source": [
    "path = \"./models/\"\n",
    "Q_p.save(f\"{path}Qlearning gamma {gamma} lr {lr_v} epsilon {epsilon} episodes {n_episodes}\")"
   ]
  },
  {
   "cell_type": "code",
   "execution_count": 60,
   "id": "b2c332b4",
   "metadata": {
    "ExecuteTime": {
     "end_time": "2025-05-26T19:03:03.466990Z",
     "start_time": "2025-05-26T19:03:03.393964Z"
    }
   },
   "outputs": [],
   "source": [
    "env = SnakeEnv(render_mode=\"human\")\n",
    "path = \"./models/\"\n",
    "Q_p = QLearning(env.action_space.n, gamma=gamma, lr_v=lr_v)\n",
    "Q_p.upload(f\"{path}Qlearning gamma {gamma} lr {lr_v} epsilon {epsilon} episodes {n_episodes}\")"
   ]
  },
  {
   "cell_type": "code",
   "execution_count": 61,
   "id": "d76db54d",
   "metadata": {
    "ExecuteTime": {
     "end_time": "2025-05-26T18:20:57.378580Z",
     "start_time": "2025-05-26T18:20:45.805661Z"
    }
   },
   "outputs": [],
   "source": [
    "env = SnakeEnv(render_mode=\"human\")\n",
    "Q_p.play(env, bracketer)"
   ]
  },
  {
   "cell_type": "markdown",
   "id": "3f45dbe8",
   "metadata": {},
   "source": [
    "Proviamo SARSA"
   ]
  },
  {
   "cell_type": "code",
   "execution_count": 4,
   "id": "2e6cf90f",
   "metadata": {
    "ExecuteTime": {
     "end_time": "2025-05-26T12:58:01.731940Z",
     "start_time": "2025-05-26T12:58:01.722112Z"
    }
   },
   "outputs": [],
   "source": [
    "# Environment\n",
    "env = SnakeEnv(render_mode=\"nonhuman\")\n",
    "\n",
    "SARSA_p = SARSA(env.action_space.n, gamma=gamma, lr_v=lr_v)\n",
    "#SARSA_p.learning(env, epsilon, n_episodes, bracketer)"
   ]
  },
  {
   "cell_type": "code",
   "execution_count": 5,
   "id": "7d84dfa4",
   "metadata": {},
   "outputs": [],
   "source": [
    "path = \"./models/\"\n",
    "#SARSA_p.save(f\"{path}SARSA gamma {gamma} lr {lr_v} epsilon {epsilon} episodes {n_episodes}\")"
   ]
  },
  {
   "cell_type": "code",
   "execution_count": 8,
   "id": "f1cd804f",
   "metadata": {
    "ExecuteTime": {
     "end_time": "2025-05-26T12:58:03.107513Z",
     "start_time": "2025-05-26T12:58:03.094175Z"
    }
   },
   "outputs": [],
   "source": [
    "SARSA_p.upload(f\"{path}SARSA gamma {gamma} lr {lr_v} epsilon {epsilon} episodes {n_episodes}\")"
   ]
  },
  {
   "cell_type": "code",
   "execution_count": 21,
   "id": "049625d4",
   "metadata": {
    "ExecuteTime": {
     "end_time": "2025-05-26T12:58:41.397611Z",
     "start_time": "2025-05-26T12:58:35.963502Z"
    }
   },
   "outputs": [],
   "source": [
    "done = False\n",
    "keep = True\n",
    "env = SnakeEnv(render_mode=\"human\")\n",
    "state, _ = env.reset()\n",
    "state = bracketer.bracket(state)\n",
    "possible_action = [0, 1, 2, 3]\n",
    "SARSA_p.play(env, bracketer)"
   ]
  },
  {
   "cell_type": "markdown",
   "id": "81949c38",
   "metadata": {},
   "source": [
    "Setting gamma to 0.999 (so having a time horizon of 1000 and a maximum number of steps of 1000) make the agent learn something about how to approach food in order to prevent to end in its own tail."
   ]
  },
  {
   "cell_type": "markdown",
   "id": "976983c21574e86e",
   "metadata": {},
   "source": [
    "Proviamo DDQN\n"
   ]
  },
  {
   "cell_type": "code",
   "execution_count": 4,
   "id": "3edd2cfc86fab5f6",
   "metadata": {
    "ExecuteTime": {
     "end_time": "2025-05-26T18:30:18.551942Z",
     "start_time": "2025-05-26T18:30:16.309479Z"
    }
   },
   "outputs": [],
   "source": [
    "BATCH_SIZE = 128\n",
    "MEMORY_SIZE = 10000\n",
    "TARGET_UPDATE_FREQ = 200\n",
    "\n",
    "# Bracketer\n",
    "bracketer = FoodRelativePositionBracket()\n",
    "# General Settings\n",
    "gamma = 0.95\n",
    "lr_v = 0.001\n",
    "epsilon = 0.1\n",
    "n_episodes = 20001\n",
    "\n",
    "# Environment\n",
    "env = SnakeEnv(render_mode=\"nonhuman\")\n",
    "state_dim = bracketer.get_state_dim()\n",
    "\n",
    "ddqn = DeepDoubleQLearning(\n",
    "    env.action_space.n,\n",
    "    state_dim=state_dim,\n",
    "    gamma=gamma,\n",
    "    lr_v=lr_v,\n",
    "    batch_size=BATCH_SIZE,\n",
    "    memory_size=MEMORY_SIZE,\n",
    "    target_update_freq=TARGET_UPDATE_FREQ,\n",
    "    device='cpu'\n",
    ")"
   ]
  },
  {
   "cell_type": "code",
   "execution_count": 5,
   "id": "3019b70901ba8f18",
   "metadata": {
    "ExecuteTime": {
     "end_time": "2025-05-26T18:58:09.556282Z",
     "start_time": "2025-05-26T18:30:20.586021Z"
    }
   },
   "outputs": [
    {
     "name": "stdout",
     "output_type": "stream",
     "text": [
      "0\n",
      "500\n",
      "1000\n",
      "1500\n",
      "2000\n",
      "2500\n",
      "3000\n",
      "3500\n",
      "4000\n",
      "4500\n",
      "5000\n",
      "5500\n",
      "6000\n",
      "6500\n",
      "7000\n",
      "7500\n",
      "8000\n",
      "8500\n",
      "9000\n",
      "9500\n",
      "10000\n",
      "10500\n",
      "11000\n",
      "11500\n",
      "12000\n",
      "12500\n",
      "13000\n",
      "13500\n",
      "14000\n",
      "14500\n",
      "15000\n",
      "15500\n",
      "16000\n",
      "16500\n",
      "17000\n",
      "17500\n",
      "18000\n",
      "18500\n",
      "19000\n",
      "19500\n",
      "20000\n"
     ]
    }
   ],
   "source": [
    "env = SnakeEnv(render_mode=\"nonhuman\")\n",
    "ddqn.learning(env, epsilon, n_episodes, bracketer)"
   ]
  },
  {
   "cell_type": "code",
   "execution_count": 6,
   "id": "4a77dd8a245e9973",
   "metadata": {
    "ExecuteTime": {
     "end_time": "2025-05-26T18:59:44.250815Z",
     "start_time": "2025-05-26T18:59:44.234853Z"
    }
   },
   "outputs": [
    {
     "name": "stdout",
     "output_type": "stream",
     "text": [
      "Model path: D:\\university\\reinforcement\\project\\models/\n"
     ]
    }
   ],
   "source": [
    "current_path = os.getcwd()\n",
    "model_path = os.path.join(current_path, \"models/\")\n",
    "print(f\"Model path: {model_path}\")"
   ]
  },
  {
   "cell_type": "code",
   "execution_count": 7,
   "id": "276094db05c61d64",
   "metadata": {
    "ExecuteTime": {
     "end_time": "2025-05-26T18:59:46.690195Z",
     "start_time": "2025-05-26T18:59:46.674965Z"
    }
   },
   "outputs": [],
   "source": [
    "ddqn.save(f\"{model_path}DDQN gamma {gamma} lr {lr_v} epsilon {epsilon} episodes {n_episodes}\")"
   ]
  },
  {
   "cell_type": "code",
   "execution_count": 8,
   "id": "74eeb13a6dc86102",
   "metadata": {
    "ExecuteTime": {
     "end_time": "2025-05-26T19:00:20.195364Z",
     "start_time": "2025-05-26T19:00:20.180526Z"
    }
   },
   "outputs": [],
   "source": [
    "env = SnakeEnv(render_mode=\"human\")\n",
    "state_dim = bracketer.get_state_dim()\n",
    "ddqn = DeepDoubleQLearning(\n",
    "    env.action_space.n,\n",
    "    state_dim=state_dim,\n",
    "    gamma=gamma,\n",
    "    lr_v=lr_v,\n",
    "    batch_size=BATCH_SIZE,\n",
    "    memory_size=MEMORY_SIZE,\n",
    "    target_update_freq=TARGET_UPDATE_FREQ\n",
    ")\n",
    "ddqn.upload(f\"{model_path}DDQN gamma {gamma} lr {lr_v} epsilon {epsilon} episodes {n_episodes}\")"
   ]
  },
  {
   "cell_type": "code",
   "execution_count": 20,
   "id": "d349154f4083194e",
   "metadata": {
    "ExecuteTime": {
     "end_time": "2025-05-26T19:01:48.091326Z",
     "start_time": "2025-05-26T19:01:44.856188Z"
    }
   },
   "outputs": [],
   "source": [
    "ddqn.play(env, bracketer)"
   ]
  },
  {
   "cell_type": "code",
   "execution_count": 19,
   "id": "1d2909a15c06500d",
   "metadata": {
    "ExecuteTime": {
     "end_time": "2025-05-26T19:01:23.454783Z",
     "start_time": "2025-05-26T19:01:23.446791Z"
    }
   },
   "outputs": [
    {
     "name": "stdout",
     "output_type": "stream",
     "text": [
      "Q values:\n"
     ]
    }
   ],
   "source": [
    "print(\"Q values:\")\n",
    "for state, action in ddqn.Qvalues.items():\n",
    "    print(f\"State: {state}, Action: {action}, Value: {ddqn.q_values[(state, action)]}\")\n"
   ]
  },
  {
   "cell_type": "markdown",
   "id": "47e533fece0d0206",
   "metadata": {},
   "source": [
    "Monte Carlo"
   ]
  },
  {
   "cell_type": "code",
   "execution_count": 3,
   "id": "bf56d6412785bd98",
   "metadata": {
    "ExecuteTime": {
     "end_time": "2025-05-26T18:23:15.188125Z",
     "start_time": "2025-05-26T18:23:15.180820Z"
    }
   },
   "outputs": [],
   "source": [
    "env = SnakeEnv(render_mode=\"nonhuman\")\n",
    "\n",
    "MC = Montecarlo(env.action_space.n, gamma=gamma, lr_v=lr_v)"
   ]
  },
  {
   "cell_type": "code",
   "execution_count": 4,
   "id": "96d0b0134fcda960",
   "metadata": {
    "ExecuteTime": {
     "end_time": "2025-05-26T18:25:02.466553Z",
     "start_time": "2025-05-26T18:23:16.596970Z"
    }
   },
   "outputs": [
    {
     "name": "stdout",
     "output_type": "stream",
     "text": [
      "0\n",
      "500\n",
      "1000\n",
      "1500\n",
      "2000\n",
      "2500\n",
      "3000\n",
      "3500\n",
      "4000\n",
      "4500\n"
     ]
    }
   ],
   "source": [
    "MC.learning(env, epsilon, n_episodes, bracketer)"
   ]
  },
  {
   "cell_type": "code",
   "execution_count": 22,
   "id": "22decd2ce0d07523",
   "metadata": {
    "ExecuteTime": {
     "end_time": "2025-05-26T19:02:22.054416Z",
     "start_time": "2025-05-26T19:02:22.046051Z"
    }
   },
   "outputs": [],
   "source": [
    "path = \"./models/\"\n",
    "MC.save(f\"{path}MC gamma {gamma} lr {lr_v} epsilon {epsilon} episodes {n_episodes}\")"
   ]
  },
  {
   "cell_type": "code",
   "execution_count": 32,
   "id": "8219ca85cdcdcfb",
   "metadata": {
    "ExecuteTime": {
     "end_time": "2025-05-26T19:02:48.247358Z",
     "start_time": "2025-05-26T19:02:48.228947Z"
    }
   },
   "outputs": [],
   "source": [
    "env = SnakeEnv(render_mode=\"human\")\n",
    "MC = Montecarlo(env.action_space.n, gamma=gamma, lr_v=lr_v)\n",
    "MC.upload(f\"{path}MC gamma {gamma} lr {lr_v} epsilon {epsilon} episodes {n_episodes}\")"
   ]
  },
  {
   "cell_type": "code",
   "execution_count": 35,
   "id": "6c8883e75e237442",
   "metadata": {
    "ExecuteTime": {
     "end_time": "2025-05-26T19:02:55.130061Z",
     "start_time": "2025-05-26T19:02:53.345676Z"
    }
   },
   "outputs": [],
   "source": [
    "MC.play(env, bracketer)"
   ]
  }
 ],
 "metadata": {
  "kernelspec": {
   "display_name": "Python 3",
   "language": "python",
   "name": "python3"
  },
  "language_info": {
   "codemirror_mode": {
    "name": "ipython",
    "version": 3
   },
   "file_extension": ".py",
   "mimetype": "text/x-python",
   "name": "python",
   "nbconvert_exporter": "python",
   "pygments_lexer": "ipython3",
   "version": "3.12.3"
  }
 },
 "nbformat": 4,
 "nbformat_minor": 5
}
