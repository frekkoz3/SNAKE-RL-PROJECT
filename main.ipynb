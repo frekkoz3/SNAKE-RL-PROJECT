{
 "cells": [
  {
   "cell_type": "code",
   "execution_count": 17,
   "id": "e66ddfc6",
   "metadata": {},
   "outputs": [],
   "source": [
    "from algorithms import *\n",
    "from snake_environment import *\n",
    "from states_bracket import *"
   ]
  },
  {
   "cell_type": "code",
   "execution_count": 18,
   "id": "2e6cf90f",
   "metadata": {},
   "outputs": [
    {
     "data": {
      "image/png": "[encoded data removed]",
      "text/plain": [
       "<Figure size 640x480 with 1 Axes>"
      ]
     },
     "metadata": {},
     "output_type": "display_data"
    },
    {
     "name": "stdout",
     "output_type": "stream",
     "text": [
      "0\n",
      "100\n"
     ]
    }
   ],
   "source": [
    "# Environment\n",
    "env = SnakeEnv(render_mode=\"nonhuman\")\n",
    "# Bracketer\n",
    "bracketer = FoodRelativePositionBraket()\n",
    "# Sarsa\n",
    "gamma = 0.9\n",
    "lr_v = 0.15\n",
    "SARSA_p = SARSA(env.action_space.n, gamma=gamma, lr_v=lr_v)\n",
    "epsilon = 0.15\n",
    "\n",
    "n_episodes = 200\n",
    "\n",
    "performance_traj_SARSA = np.zeros(n_episodes)\n",
    "\n",
    "state, _ = env.reset()\n",
    "\n",
    "for i in range(n_episodes):\n",
    "\n",
    "    done = False\n",
    "\n",
    "    env.reset()\n",
    "    state = bracketer.bracket(env._get_obs())\n",
    "    action = SARSA_p.get_action_epsilon_greedy(state, eps = epsilon)\n",
    "\n",
    "    while not done:\n",
    "\n",
    "        new_s, reward, done, trunc, inf = env.step(action)\n",
    "        new_s = bracketer.bracket(new_s)\n",
    "        \n",
    "        # Keeps track of performance for each episode\n",
    "        performance_traj_SARSA[i] += reward\n",
    "        \n",
    "        new_a = SARSA_p.get_action_epsilon_greedy(new_s, epsilon)\n",
    "\n",
    "        SARSA_p.single_step_update(state, action, reward, new_s, new_a, done)\n",
    "        \n",
    "        action = new_a\n",
    "        state = new_s\n",
    "\n",
    "        env.render()\n",
    "    if i % 100 == 0:\n",
    "        print(i)\n",
    "\n",
    "env.close()"
   ]
  },
  {
   "cell_type": "code",
   "execution_count": null,
   "id": "049625d4",
   "metadata": {},
   "outputs": [
    {
     "data": {
      "image/png": "[encoded data removed]",
      "text/plain": [
       "<Figure size 640x480 with 1 Axes>"
      ]
     },
     "metadata": {},
     "output_type": "display_data"
    }
   ],
   "source": [
    "done = False\n",
    "env = SnakeEnv(render_mode=\"human\")\n",
    "\n",
    "while not done:\n",
    "    action = SARSA_p.get_action_greedy(state)\n",
    "    state, reward, done, trunc, inf = env.step(action)\n",
    "    state = bracketer.bracket(state)\n",
    "    env.render()\n",
    "\n",
    "env.close()"
   ]
  }
 ],
 "metadata": {
  "kernelspec": {
   "display_name": "Python 3",
   "language": "python",
   "name": "python3"
  },
  "language_info": {
   "codemirror_mode": {
    "name": "ipython",
    "version": 3
   },
   "file_extension": ".py",
   "mimetype": "text/x-python",
   "name": "python",
   "nbconvert_exporter": "python",
   "pygments_lexer": "ipython3",
   "version": "3.12.0"
  }
 },
 "nbformat": 4,
 "nbformat_minor": 5
}
