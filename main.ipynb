{
 "cells": [
  {
   "cell_type": "code",
   "execution_count": 1,
   "id": "e66ddfc6",
   "metadata": {},
   "outputs": [],
   "source": [
    "from algorithms import *\n",
    "from snake_environment import *\n",
    "from states_bracket import *"
   ]
  },
  {
   "cell_type": "code",
   "execution_count": 2,
   "id": "c5a0433d",
   "metadata": {},
   "outputs": [],
   "source": [
    "def print_q_value(dictionary):\n",
    "    for d in dictionary:\n",
    "        print(f\"State ({d[0]}, {d[1]}), Action {d[2]} : Value {dictionary[d]}\")"
   ]
  },
  {
   "cell_type": "code",
   "execution_count": null,
   "id": "09da74c4",
   "metadata": {},
   "outputs": [],
   "source": [
    "# Bracketer\n",
    "bracketer = FoodRelativePositionBraket()\n",
    "# General Settings \n",
    "gamma = 0.9\n",
    "lr_v = 0.15\n",
    "epsilon = 0.4\n",
    "n_episodes = 10000"
   ]
  },
  {
   "cell_type": "markdown",
   "id": "2710c15a",
   "metadata": {},
   "source": [
    "Proviamo il QLearning"
   ]
  },
  {
   "cell_type": "code",
   "execution_count": null,
   "id": "cacd472b",
   "metadata": {},
   "outputs": [
    {
     "name": "stdout",
     "output_type": "stream",
     "text": [
      "0\n",
      "500\n",
      "1000\n",
      "1500\n",
      "2000\n",
      "2500\n",
      "3000\n",
      "3500\n"
     ]
    }
   ],
   "source": [
    "# Environment\n",
    "env = SnakeEnv(render_mode=\"nonhuman\")\n",
    "# Bracketer\n",
    "bracketer = FoodRelativePositionBraket()\n",
    "# Sarsa\n",
    "gamma = 0.9\n",
    "lr_v = 0.15\n",
    "Q_p = QLearning(env.action_space.n, gamma=gamma, lr_v=lr_v)\n",
    "epsilon = 0.4\n",
    "\n",
    "n_episodes = 5000\n",
    "\n",
    "performance_traj_SARSA = np.zeros(n_episodes)\n",
    "\n",
    "state, _ = env.reset()\n",
    "\n",
    "for i in range(n_episodes):\n",
    "\n",
    "    done = False\n",
    "    keep = True\n",
    "\n",
    "    env.reset()\n",
    "    state = bracketer.bracket(env._get_obs())\n",
    "    action = Q_p.get_action_epsilon_greedy(state, eps = epsilon)\n",
    "\n",
    "    while not done and keep:\n",
    "\n",
    "        new_s, reward, done, trunc, inf = env.step(action)\n",
    "        if inf != {}:\n",
    "            action = inf[\"act\"]\n",
    "        new_s = bracketer.bracket(new_s)\n",
    "        \n",
    "        # Keeps track of performance for each episode\n",
    "        performance_traj_SARSA[i] += reward\n",
    "        \n",
    "        new_a = Q_p.get_action_epsilon_greedy(new_s, epsilon)\n",
    "\n",
    "        Q_p.single_step_update(state, action, reward, new_s, new_a, done)\n",
    "        \n",
    "        action = new_a\n",
    "        state = new_s\n",
    "\n",
    "        keep = env.render()\n",
    "    if i % 500 == 0:\n",
    "        print(i)\n",
    "\n",
    "env.close()"
   ]
  },
  {
   "cell_type": "code",
   "execution_count": null,
   "id": "752bc25e",
   "metadata": {},
   "outputs": [],
   "source": [
    "path = \"./models/\"\n",
    "Q_p.save(f\"{path}gamma {gamma} lr {lr_v} epsilon {epsilon} episodes {n_episodes}\")"
   ]
  },
  {
   "cell_type": "code",
   "execution_count": 5,
   "id": "d76db54d",
   "metadata": {},
   "outputs": [],
   "source": [
    "done = False\n",
    "keep = True\n",
    "env = SnakeEnv(render_mode=\"human\")\n",
    "\n",
    "while not done and keep:\n",
    "    action = Q_p.get_action_greedy(state)\n",
    "    state, reward, done, trunc, inf = env.step(action)\n",
    "    state = bracketer.bracket(state)\n",
    "    keep = env.render()\n",
    "\n",
    "env.close()"
   ]
  },
  {
   "cell_type": "markdown",
   "id": "3f45dbe8",
   "metadata": {},
   "source": [
    "Proviamo SARSA"
   ]
  },
  {
   "cell_type": "code",
   "execution_count": null,
   "id": "2e6cf90f",
   "metadata": {},
   "outputs": [
    {
     "name": "stdout",
     "output_type": "stream",
     "text": [
      "0\n"
     ]
    }
   ],
   "source": [
    "# Environment\n",
    "env = SnakeEnv(render_mode=\"nonhuman\")\n",
    "\n",
    "SARSA_p = SARSA(env.action_space.n, gamma=gamma, lr_v=lr_v)\n",
    "SARSA_p.learning(env, epsilon, n_episodes, bracketer)"
   ]
  },
  {
   "cell_type": "code",
   "execution_count": null,
   "id": "7d84dfa4",
   "metadata": {},
   "outputs": [],
   "source": [
    "path = \"./models/\"\n",
    "SARSA_p.save(f\"{path}gamma {gamma} lr {lr_v} epsilon {epsilon} episodes {n_episodes}\")"
   ]
  },
  {
   "cell_type": "code",
   "execution_count": 6,
   "id": "f1cd804f",
   "metadata": {},
   "outputs": [],
   "source": [
    "SARSA_p.upload(f\"{path}gamma {gamma} lr {lr_v}\")"
   ]
  },
  {
   "cell_type": "code",
   "execution_count": 8,
   "id": "049625d4",
   "metadata": {},
   "outputs": [],
   "source": [
    "done = False\n",
    "keep = True\n",
    "env = SnakeEnv(render_mode=\"human\")\n",
    "\n",
    "while not done and keep:\n",
    "    action = SARSA_p.get_action_greedy(state)\n",
    "    state, reward, done, trunc, inf = env.step(action)\n",
    "    state = bracketer.bracket(state)\n",
    "    keep = env.render()\n",
    "\n",
    "env.close()"
   ]
  },
  {
   "cell_type": "markdown",
   "id": "81949c38",
   "metadata": {},
   "source": [
    "Setting gamma to 0.999 (so having a time horizon of 1000 and a maximum number of steps of 1000) make the agent learn something about how to approach food in order to prevent to end in its own tail. "
   ]
  }
 ],
 "metadata": {
  "kernelspec": {
   "display_name": "Python 3",
   "language": "python",
   "name": "python3"
  },
  "language_info": {
   "codemirror_mode": {
    "name": "ipython",
    "version": 3
   },
   "file_extension": ".py",
   "mimetype": "text/x-python",
   "name": "python",
   "nbconvert_exporter": "python",
   "pygments_lexer": "ipython3",
   "version": "3.12.3"
  }
 },
 "nbformat": 4,
 "nbformat_minor": 5
}
