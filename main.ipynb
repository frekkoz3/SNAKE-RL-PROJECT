{
 "cells": [
  {
   "cell_type": "code",
   "execution_count": 5,
   "id": "e66ddfc6",
   "metadata": {
    "ExecuteTime": {
     "end_time": "2025-05-26T18:30:04.815486Z",
     "start_time": "2025-05-26T18:30:02.082557Z"
    }
   },
   "outputs": [],
   "source": [
    "import os\n",
    "\n",
    "from algorithms import *\n",
    "from snake_environment import *\n",
    "from states_bracket import *\n",
    "from DeepDQL import *"
   ]
  },
  {
   "cell_type": "code",
   "execution_count": 12,
   "id": "09da74c4",
   "metadata": {
    "ExecuteTime": {
     "end_time": "2025-05-26T18:30:07.513081Z",
     "start_time": "2025-05-26T18:30:07.496888Z"
    }
   },
   "outputs": [],
   "source": [
    "# Bracketer\n",
    "bracketer = FoodDirectionBracket()\n",
    "# General Settings \n",
    "gamma = 0.9\n",
    "lr_v = 0.15\n",
    "n_episodes = 10000\n",
    "epsilon_schedule = Epsilon(eps = 0.3)"
   ]
  },
  {
   "cell_type": "markdown",
   "id": "2710c15a",
   "metadata": {},
   "source": [
    "Proviamo il QLearning"
   ]
  },
  {
   "cell_type": "code",
   "execution_count": null,
   "id": "cacd472b",
   "metadata": {
    "ExecuteTime": {
     "end_time": "2025-05-26T18:20:38.243099Z",
     "start_time": "2025-05-26T18:14:52.892635Z"
    }
   },
   "outputs": [
    {
     "name": "stdout",
     "output_type": "stream",
     "text": [
      "0\n",
      "500\n",
      "1000\n",
      "1500\n",
      "2000\n",
      "2500\n",
      "3000\n",
      "3500\n",
      "4000\n",
      "4500\n",
      "5000\n",
      "5500\n",
      "6000\n",
      "6500\n",
      "7000\n",
      "7500\n",
      "8000\n",
      "8500\n",
      "9000\n",
      "9500\n"
     ]
    }
   ],
   "source": [
    "# Environment\n",
    "env = SnakeEnv(render_mode=\"nonhuman\")\n",
    "Q_p = QLearning(env.action_space.n, gamma=gamma, lr_v=lr_v)\n",
    "Q_p.learning(env, epsilon_schedule, n_episodes, bracketer)"
   ]
  },
  {
   "cell_type": "code",
   "execution_count": null,
   "id": "752bc25e",
   "metadata": {
    "ExecuteTime": {
     "end_time": "2025-05-26T19:03:05.802528Z",
     "start_time": "2025-05-26T19:03:05.784023Z"
    }
   },
   "outputs": [],
   "source": [
    "path = \"./models/\"\n",
    "name = f\"{Q_p.name()} gamma {gamma} lr {lr_v} epsilon {str(epsilon_schedule)} episodes {n_episodes} bracket {str(bracketer)}\"\n",
    "Q_p.save(f\"{path}Qlearning gamma {gamma} lr {lr_v} epsilon {str(epsilon_schedule)} episodes {n_episodes}\")"
   ]
  },
  {
   "cell_type": "code",
   "execution_count": 4,
   "id": "b2c332b4",
   "metadata": {
    "ExecuteTime": {
     "end_time": "2025-05-26T19:03:03.466990Z",
     "start_time": "2025-05-26T19:03:03.393964Z"
    }
   },
   "outputs": [],
   "source": [
    "env = SnakeEnv(render_mode=\"human\")\n",
    "path = \"./models/\"\n",
    "Q_p = QLearning(env.action_space.n, gamma=gamma, lr_v=lr_v)\n",
    "Q_p.upload(f\"{path}Qlearning gamma {gamma} lr {lr_v} epsilon {epsilon} episodes {n_episodes}\")"
   ]
  },
  {
   "cell_type": "code",
   "execution_count": 5,
   "id": "d76db54d",
   "metadata": {
    "ExecuteTime": {
     "end_time": "2025-05-26T18:20:57.378580Z",
     "start_time": "2025-05-26T18:20:45.805661Z"
    }
   },
   "outputs": [],
   "source": [
    "env = SnakeEnv(render_mode=\"human\")\n",
    "Q_p.play(env, bracketer)"
   ]
  },
  {
   "cell_type": "markdown",
   "id": "3f45dbe8",
   "metadata": {},
   "source": [
    "Proviamo SARSA"
   ]
  },
  {
   "cell_type": "code",
   "execution_count": 13,
   "id": "2e6cf90f",
   "metadata": {
    "ExecuteTime": {
     "end_time": "2025-05-26T12:58:01.731940Z",
     "start_time": "2025-05-26T12:58:01.722112Z"
    }
   },
   "outputs": [
    {
     "name": "stdout",
     "output_type": "stream",
     "text": [
      "0\n",
      "500\n",
      "1000\n",
      "1500\n",
      "2000\n",
      "2500\n",
      "3000\n",
      "3500\n",
      "4000\n",
      "4500\n",
      "5000\n",
      "5500\n",
      "6000\n",
      "6500\n",
      "7000\n",
      "7500\n",
      "8000\n",
      "8500\n",
      "9000\n",
      "9500\n"
     ]
    }
   ],
   "source": [
    "# Environment\n",
    "env = SnakeEnv(render_mode=\"nonhuman\")\n",
    "SARSA_p = SARSA(env.action_space.n, gamma=gamma, lr_v=lr_v)\n",
    "SARSA_p.learning(env, epsilon_schedule, n_episodes, bracketer = FoodDirectionBracket())"
   ]
  },
  {
   "cell_type": "code",
   "execution_count": 14,
   "id": "7d84dfa4",
   "metadata": {},
   "outputs": [],
   "source": [
    "path = \"./models/\"\n",
    "name = f\"{SARSA_p.name()} gamma {gamma} lr {lr_v} epsilon {str(epsilon_schedule)} episodes {n_episodes} bracket {str(bracketer)}\"\n",
    "SARSA_p.save(f\"{path}{name}\")"
   ]
  },
  {
   "cell_type": "code",
   "execution_count": 15,
   "id": "f1cd804f",
   "metadata": {
    "ExecuteTime": {
     "end_time": "2025-05-26T12:58:03.107513Z",
     "start_time": "2025-05-26T12:58:03.094175Z"
    }
   },
   "outputs": [],
   "source": [
    "SARSA_p.upload(f\"{path}{name}\")"
   ]
  },
  {
   "cell_type": "code",
   "execution_count": 24,
   "id": "049625d4",
   "metadata": {
    "ExecuteTime": {
     "end_time": "2025-05-26T12:58:41.397611Z",
     "start_time": "2025-05-26T12:58:35.963502Z"
    }
   },
   "outputs": [],
   "source": [
    "env = SnakeEnv(render_mode=\"human\", max_step=1000)\n",
    "SARSA_p.play(env, bracketer)"
   ]
  },
  {
   "cell_type": "code",
   "execution_count": 25,
   "id": "6b78bd24",
   "metadata": {},
   "outputs": [
    {
     "name": "stdout",
     "output_type": "stream",
     "text": [
      "State ((ds : 0, de : 1, dn : 1, dw : 0)), Action south : Value -2.617223499220091\n",
      "State ((ds : 0, de : 1, dn : 1, dw : 0)), Action east : Value -3.5591417211181584\n",
      "State ((ds : 0, de : 1, dn : 1, dw : 0)), Action north : Value -3.548640935786631\n",
      "State ((ds : 0, de : 1, dn : 1, dw : 0)), Action west : Value -1.6940354324689322\n",
      "State ((ds : 0, de : 1, dn : 0, dw : 0)), Action south : Value -3.678109737756577\n",
      "State ((ds : 0, de : 1, dn : 0, dw : 0)), Action east : Value -4.143858954737382\n",
      "State ((ds : 0, de : 1, dn : 0, dw : 0)), Action north : Value -2.364983597788979\n",
      "State ((ds : 0, de : 1, dn : 0, dw : 0)), Action west : Value -2.531840175456429\n",
      "State ((ds : 1, de : 1, dn : 0, dw : 0)), Action south : Value -3.7612428650315697\n",
      "State ((ds : 1, de : 1, dn : 0, dw : 0)), Action east : Value -3.3435828299121377\n",
      "State ((ds : 1, de : 1, dn : 0, dw : 0)), Action north : Value -4.654041390394108\n",
      "State ((ds : 1, de : 1, dn : 0, dw : 0)), Action west : Value -2.5602004042270163\n",
      "State ((ds : 0, de : 0, dn : 1, dw : 0)), Action south : Value -0.8758428809145242\n",
      "State ((ds : 0, de : 0, dn : 1, dw : 0)), Action east : Value -1.738724850329076\n",
      "State ((ds : 0, de : 0, dn : 1, dw : 0)), Action north : Value -2.7135452891348617\n",
      "State ((ds : 0, de : 0, dn : 1, dw : 0)), Action west : Value -3.0929070866154094\n",
      "State ((ds : 1, de : 0, dn : 0, dw : 1)), Action south : Value -3.119220917843114\n",
      "State ((ds : 1, de : 0, dn : 0, dw : 1)), Action east : Value -2.851545654448997\n",
      "State ((ds : 1, de : 0, dn : 0, dw : 1)), Action north : Value -2.0099251215083846\n",
      "State ((ds : 1, de : 0, dn : 0, dw : 1)), Action west : Value -3.0712032786372347\n",
      "State ((ds : 1, de : 0, dn : 0, dw : 0)), Action south : Value -1.5644933373175407\n",
      "State ((ds : 1, de : 0, dn : 0, dw : 0)), Action east : Value -0.4504129521964673\n",
      "State ((ds : 1, de : 0, dn : 0, dw : 0)), Action north : Value -3.1175148637399395\n",
      "State ((ds : 1, de : 0, dn : 0, dw : 0)), Action west : Value -4.030234550317093\n",
      "State ((ds : 0, de : 0, dn : 1, dw : 1)), Action south : Value -2.37401822365942\n",
      "State ((ds : 0, de : 0, dn : 1, dw : 1)), Action east : Value -3.0897755262189737\n",
      "State ((ds : 0, de : 0, dn : 1, dw : 1)), Action north : Value -2.799263384419455\n",
      "State ((ds : 0, de : 0, dn : 1, dw : 1)), Action west : Value -4.032485165414537\n",
      "State ((ds : 0, de : 0, dn : 0, dw : 1)), Action south : Value -3.4117624887260356\n",
      "State ((ds : 0, de : 0, dn : 0, dw : 1)), Action east : Value -3.4806289745142047\n",
      "State ((ds : 0, de : 0, dn : 0, dw : 1)), Action north : Value -0.2715819794578681\n",
      "State ((ds : 0, de : 0, dn : 0, dw : 1)), Action west : Value -2.741974780208464\n",
      "\n"
     ]
    }
   ],
   "source": [
    "SARSA_p.print_q_values(bracketer)"
   ]
  },
  {
   "cell_type": "markdown",
   "id": "81949c38",
   "metadata": {},
   "source": [
    "Setting gamma to 0.999 (so having a time horizon of 1000 and a maximum number of steps of 1000) make the agent learn something about how to approach food in order to prevent to end in its own tail."
   ]
  },
  {
   "cell_type": "markdown",
   "id": "976983c21574e86e",
   "metadata": {},
   "source": [
    "Proviamo DDQN\n"
   ]
  },
  {
   "cell_type": "code",
   "execution_count": 4,
   "id": "3edd2cfc86fab5f6",
   "metadata": {
    "ExecuteTime": {
     "end_time": "2025-05-26T18:30:18.551942Z",
     "start_time": "2025-05-26T18:30:16.309479Z"
    }
   },
   "outputs": [],
   "source": [
    "BATCH_SIZE = 128\n",
    "MEMORY_SIZE = 10000\n",
    "TARGET_UPDATE_FREQ = 200\n",
    "\n",
    "# Bracketer\n",
    "bracketer = FoodRelativePositionBracket()\n",
    "# General Settings\n",
    "gamma = 0.95\n",
    "lr_v = 0.001\n",
    "epsilon = 0.1\n",
    "n_episodes = 20001\n",
    "\n",
    "# Environment\n",
    "env = SnakeEnv(render_mode=\"nonhuman\")\n",
    "state_dim = bracketer.get_state_dim()\n",
    "\n",
    "ddqn = DeepDoubleQLearning(\n",
    "    env.action_space.n,\n",
    "    state_dim=state_dim,\n",
    "    gamma=gamma,\n",
    "    lr_v=lr_v,\n",
    "    batch_size=BATCH_SIZE,\n",
    "    memory_size=MEMORY_SIZE,\n",
    "    target_update_freq=TARGET_UPDATE_FREQ,\n",
    "    device='cpu'\n",
    ")"
   ]
  },
  {
   "cell_type": "code",
   "execution_count": 5,
   "id": "3019b70901ba8f18",
   "metadata": {
    "ExecuteTime": {
     "end_time": "2025-05-26T18:58:09.556282Z",
     "start_time": "2025-05-26T18:30:20.586021Z"
    }
   },
   "outputs": [
    {
     "name": "stdout",
     "output_type": "stream",
     "text": [
      "0\n",
      "500\n",
      "1000\n",
      "1500\n",
      "2000\n",
      "2500\n",
      "3000\n",
      "3500\n",
      "4000\n",
      "4500\n",
      "5000\n",
      "5500\n",
      "6000\n",
      "6500\n",
      "7000\n",
      "7500\n",
      "8000\n",
      "8500\n",
      "9000\n",
      "9500\n",
      "10000\n",
      "10500\n",
      "11000\n",
      "11500\n",
      "12000\n",
      "12500\n",
      "13000\n",
      "13500\n",
      "14000\n",
      "14500\n",
      "15000\n",
      "15500\n",
      "16000\n",
      "16500\n",
      "17000\n",
      "17500\n",
      "18000\n",
      "18500\n",
      "19000\n",
      "19500\n",
      "20000\n"
     ]
    }
   ],
   "source": [
    "env = SnakeEnv(render_mode=\"nonhuman\")\n",
    "ddqn.learning(env, epsilon, n_episodes, bracketer)"
   ]
  },
  {
   "cell_type": "code",
   "execution_count": 6,
   "id": "4a77dd8a245e9973",
   "metadata": {
    "ExecuteTime": {
     "end_time": "2025-05-26T18:59:44.250815Z",
     "start_time": "2025-05-26T18:59:44.234853Z"
    }
   },
   "outputs": [
    {
     "name": "stdout",
     "output_type": "stream",
     "text": [
      "Model path: D:\\university\\reinforcement\\project\\models/\n"
     ]
    }
   ],
   "source": [
    "current_path = os.getcwd()\n",
    "model_path = os.path.join(current_path, \"models/\")\n",
    "print(f\"Model path: {model_path}\")"
   ]
  },
  {
   "cell_type": "code",
   "execution_count": 7,
   "id": "276094db05c61d64",
   "metadata": {
    "ExecuteTime": {
     "end_time": "2025-05-26T18:59:46.690195Z",
     "start_time": "2025-05-26T18:59:46.674965Z"
    }
   },
   "outputs": [],
   "source": [
    "ddqn.save(f\"{model_path}DDQN gamma {gamma} lr {lr_v} epsilon {epsilon} episodes {n_episodes}\")"
   ]
  },
  {
   "cell_type": "code",
   "execution_count": 8,
   "id": "74eeb13a6dc86102",
   "metadata": {
    "ExecuteTime": {
     "end_time": "2025-05-26T19:00:20.195364Z",
     "start_time": "2025-05-26T19:00:20.180526Z"
    }
   },
   "outputs": [],
   "source": [
    "env = SnakeEnv(render_mode=\"human\")\n",
    "state_dim = bracketer.get_state_dim()\n",
    "ddqn = DeepDoubleQLearning(\n",
    "    env.action_space.n,\n",
    "    state_dim=state_dim,\n",
    "    gamma=gamma,\n",
    "    lr_v=lr_v,\n",
    "    batch_size=BATCH_SIZE,\n",
    "    memory_size=MEMORY_SIZE,\n",
    "    target_update_freq=TARGET_UPDATE_FREQ\n",
    ")\n",
    "ddqn.upload(f\"{model_path}DDQN gamma {gamma} lr {lr_v} epsilon {epsilon} episodes {n_episodes}\")"
   ]
  },
  {
   "cell_type": "code",
   "execution_count": 20,
   "id": "d349154f4083194e",
   "metadata": {
    "ExecuteTime": {
     "end_time": "2025-05-26T19:01:48.091326Z",
     "start_time": "2025-05-26T19:01:44.856188Z"
    }
   },
   "outputs": [],
   "source": [
    "ddqn.play(env, bracketer)"
   ]
  },
  {
   "cell_type": "code",
   "execution_count": 19,
   "id": "1d2909a15c06500d",
   "metadata": {
    "ExecuteTime": {
     "end_time": "2025-05-26T19:01:23.454783Z",
     "start_time": "2025-05-26T19:01:23.446791Z"
    }
   },
   "outputs": [
    {
     "name": "stdout",
     "output_type": "stream",
     "text": [
      "Q values:\n"
     ]
    }
   ],
   "source": [
    "print(\"Q values:\")\n",
    "for state, action in ddqn.Qvalues.items():\n",
    "    print(f\"State: {state}, Action: {action}, Value: {ddqn.q_values[(state, action)]}\")\n"
   ]
  },
  {
   "cell_type": "markdown",
   "id": "47e533fece0d0206",
   "metadata": {},
   "source": [
    "Monte Carlo"
   ]
  },
  {
   "cell_type": "code",
   "execution_count": 15,
   "id": "bf56d6412785bd98",
   "metadata": {
    "ExecuteTime": {
     "end_time": "2025-05-26T18:23:15.188125Z",
     "start_time": "2025-05-26T18:23:15.180820Z"
    }
   },
   "outputs": [],
   "source": [
    "env = SnakeEnv(render_mode=\"nonhuman\")\n",
    "n_episodes = 5000\n",
    "MC = Montecarlo(env.action_space.n, gamma=gamma, lr_v=lr_v)"
   ]
  },
  {
   "cell_type": "code",
   "execution_count": 16,
   "id": "96d0b0134fcda960",
   "metadata": {
    "ExecuteTime": {
     "end_time": "2025-05-26T18:25:02.466553Z",
     "start_time": "2025-05-26T18:23:16.596970Z"
    }
   },
   "outputs": [
    {
     "name": "stdout",
     "output_type": "stream",
     "text": [
      "0\n"
     ]
    },
    {
     "ename": "KeyboardInterrupt",
     "evalue": "",
     "output_type": "error",
     "traceback": [
      "\u001b[1;31m---------------------------------------------------------------------------\u001b[0m",
      "\u001b[1;31mKeyboardInterrupt\u001b[0m                         Traceback (most recent call last)",
      "Cell \u001b[1;32mIn[16], line 1\u001b[0m\n\u001b[1;32m----> 1\u001b[0m \u001b[43mMC\u001b[49m\u001b[38;5;241;43m.\u001b[39;49m\u001b[43mlearning\u001b[49m\u001b[43m(\u001b[49m\u001b[43menv\u001b[49m\u001b[43m,\u001b[49m\u001b[43m \u001b[49m\u001b[43mepsilon\u001b[49m\u001b[43m,\u001b[49m\u001b[43m \u001b[49m\u001b[43mn_episodes\u001b[49m\u001b[43m,\u001b[49m\u001b[43m \u001b[49m\u001b[43mbracketer\u001b[49m\u001b[43m)\u001b[49m\n",
      "File \u001b[1;32mc:\\Users\\Frekko\\Documents\\Università\\SNAKE RL\\SNAKE-RL-PROJECT\\algorithms.py:338\u001b[0m, in \u001b[0;36mMontecarlo.learning\u001b[1;34m(self, env, eps, n_episodes, bracketer)\u001b[0m\n\u001b[0;32m    335\u001b[0m episode\u001b[38;5;241m.\u001b[39mappend((state, action, reward))\n\u001b[0;32m    337\u001b[0m possible_actions \u001b[38;5;241m=\u001b[39m env\u001b[38;5;241m.\u001b[39mget_possible_actions(action)\n\u001b[1;32m--> 338\u001b[0m new_a \u001b[38;5;241m=\u001b[39m \u001b[38;5;28;43mself\u001b[39;49m\u001b[38;5;241;43m.\u001b[39;49m\u001b[43mget_action_epsilon_greedy\u001b[49m\u001b[43m(\u001b[49m\u001b[43mnew_s\u001b[49m\u001b[43m,\u001b[49m\u001b[43m \u001b[49m\u001b[43meps\u001b[49m\u001b[43m,\u001b[49m\u001b[43m \u001b[49m\u001b[43mpossible_actions\u001b[49m\u001b[43m)\u001b[49m\n\u001b[0;32m    340\u001b[0m state \u001b[38;5;241m=\u001b[39m new_s\n\u001b[0;32m    341\u001b[0m action \u001b[38;5;241m=\u001b[39m new_a\n",
      "File \u001b[1;32mc:\\Users\\Frekko\\Documents\\Università\\SNAKE RL\\SNAKE-RL-PROJECT\\algorithms.py:212\u001b[0m, in \u001b[0;36mRLAlgorithm.get_action_epsilon_greedy\u001b[1;34m(self, s, eps, possible_actions)\u001b[0m\n\u001b[0;32m    209\u001b[0m     prob_actions[argmax_over_dict_given_subkey(\u001b[38;5;28mself\u001b[39m\u001b[38;5;241m.\u001b[39mQvalues, (\u001b[38;5;241m*\u001b[39ms, ), default\u001b[38;5;241m=\u001b[39m[i \u001b[38;5;28;01mfor\u001b[39;00m i \u001b[38;5;129;01min\u001b[39;00m \u001b[38;5;28mrange\u001b[39m (\u001b[38;5;28mself\u001b[39m\u001b[38;5;241m.\u001b[39maction_space)])[\u001b[38;5;241m2\u001b[39m]] \u001b[38;5;241m=\u001b[39m \u001b[38;5;241m1\u001b[39m\n\u001b[0;32m    211\u001b[0m \u001b[38;5;66;03m# take one action from the array of actions with the probabilities as defined above.\u001b[39;00m\n\u001b[1;32m--> 212\u001b[0m a \u001b[38;5;241m=\u001b[39m \u001b[43mnp\u001b[49m\u001b[38;5;241;43m.\u001b[39;49m\u001b[43mrandom\u001b[49m\u001b[38;5;241;43m.\u001b[39;49m\u001b[43mchoice\u001b[49m\u001b[43m(\u001b[49m\u001b[38;5;28;43mself\u001b[39;49m\u001b[38;5;241;43m.\u001b[39;49m\u001b[43maction_space\u001b[49m\u001b[43m,\u001b[49m\u001b[43m \u001b[49m\u001b[43mp\u001b[49m\u001b[38;5;241;43m=\u001b[39;49m\u001b[43mprob_actions\u001b[49m\u001b[43m)\u001b[49m\n\u001b[0;32m    213\u001b[0m \u001b[38;5;28;01mreturn\u001b[39;00m a\n",
      "\u001b[1;31mKeyboardInterrupt\u001b[0m: "
     ]
    }
   ],
   "source": [
    "MC.learning(env, epsilon, n_episodes, bracketer)"
   ]
  },
  {
   "cell_type": "code",
   "execution_count": 22,
   "id": "22decd2ce0d07523",
   "metadata": {
    "ExecuteTime": {
     "end_time": "2025-05-26T19:02:22.054416Z",
     "start_time": "2025-05-26T19:02:22.046051Z"
    }
   },
   "outputs": [],
   "source": [
    "path = \"./models/\"\n",
    "MC.save(f\"{path}MC gamma {gamma} lr {lr_v} epsilon {epsilon} episodes {n_episodes}\")"
   ]
  },
  {
   "cell_type": "code",
   "execution_count": null,
   "id": "8219ca85cdcdcfb",
   "metadata": {
    "ExecuteTime": {
     "end_time": "2025-05-26T19:02:48.247358Z",
     "start_time": "2025-05-26T19:02:48.228947Z"
    }
   },
   "outputs": [],
   "source": [
    "env = SnakeEnv(render_mode=\"human\")\n",
    "MC = Montecarlo(env.action_space.n, gamma=gamma, lr_v=lr_v)\n",
    "MC.upload(f\"{path}MC gamma {gamma} lr {lr_v} epsilon {epsilon} episodes {n_episodes}\")"
   ]
  },
  {
   "cell_type": "code",
   "execution_count": 14,
   "id": "6c8883e75e237442",
   "metadata": {
    "ExecuteTime": {
     "end_time": "2025-05-26T19:02:55.130061Z",
     "start_time": "2025-05-26T19:02:53.345676Z"
    }
   },
   "outputs": [],
   "source": [
    "MC.play(env, bracketer)"
   ]
  },
  {
   "cell_type": "code",
   "execution_count": 18,
   "id": "fbc7bda5",
   "metadata": {},
   "outputs": [
    {
     "name": "stdout",
     "output_type": "stream",
     "text": [
      "Time span =  377.8482596874237\n",
      "epsilon =  0.01 total steps =  974094\n",
      "average return with greedy policy= -1002\n"
     ]
    },
    {
     "data": {
      "image/png": "[encoded data removed]",
      "text/plain": [
       "<Figure size 640x480 with 1 Axes>"
      ]
     },
     "metadata": {},
     "output_type": "display_data"
    }
   ],
   "source": [
    "env = SnakeEnv(render_mode=\"human\")\n",
    "\n",
    "deepDQL = DeepDQL(env, NN)\n",
    "\n",
    "returns = deepDQL.learnQ(n_traj = 10000, n_traj_for_Qtarget_update=30, batch_size=150)\n",
    "deepDQL.evaluation_averaged()\n",
    "plt.plot(returns)\n",
    "plt.show()"
   ]
  }
 ],
 "metadata": {
  "kernelspec": {
   "display_name": "Python 3",
   "language": "python",
   "name": "python3"
  },
  "language_info": {
   "codemirror_mode": {
    "name": "ipython",
    "version": 3
   },
   "file_extension": ".py",
   "mimetype": "text/x-python",
   "name": "python",
   "nbconvert_exporter": "python",
   "pygments_lexer": "ipython3",
   "version": "3.12.3"
  }
 },
 "nbformat": 4,
 "nbformat_minor": 5
}
