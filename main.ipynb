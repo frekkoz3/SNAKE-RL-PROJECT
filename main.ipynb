{
 "cells": [
  {
   "metadata": {},
   "cell_type": "markdown",
   "source": "# Jupyter Snake",
   "id": "58e791d87b50960b"
  },
  {
   "cell_type": "code",
   "id": "e66ddfc6",
   "metadata": {
    "ExecuteTime": {
     "end_time": "2025-05-31T16:51:39.947562Z",
     "start_time": "2025-05-31T16:51:37.500682Z"
    }
   },
   "source": [
    "import os\n",
    "\n",
    "from algorithms import *\n",
    "from snake_environment import *\n",
    "from states_bracket import *\n",
    "from epsilon_scheduler import *\n",
    "from DeepDQL import *\n",
    "from utils import get_model_average_score"
   ],
   "outputs": [],
   "execution_count": 1
  },
  {
   "cell_type": "code",
   "id": "09da74c4",
   "metadata": {
    "ExecuteTime": {
     "end_time": "2025-05-31T16:52:00.951592Z",
     "start_time": "2025-05-31T16:52:00.940302Z"
    }
   },
   "source": [
    "# Bracketer\n",
    "bracketer = VonNeumann1NeighPlusFoodDirectionBracket()\n",
    "# General Settings \n",
    "gamma = 0.99\n",
    "lr_v = 0.15\n",
    "n_episodes = 25000\n",
    "epsilon_schedule = LinearEpsilonDecay(eps = 1, coefficient=0.999, minimum=0.15)"
   ],
   "outputs": [],
   "execution_count": 3
  },
  {
   "cell_type": "markdown",
   "id": "2710c15a",
   "metadata": {},
   "source": "## QLearning"
  },
  {
   "cell_type": "code",
   "id": "cacd472b",
   "metadata": {},
   "source": [
    "# Environment\n",
    "env = SnakeEnv(render_mode=\"nonhuman\", max_step=1000)\n",
    "Q_p = QLearning(env.action_space.n, gamma=gamma, lr_v=lr_v)\n",
    "Q_p.learning(env, epsilon_schedule, n_episodes, bracketer)"
   ],
   "outputs": [],
   "execution_count": null
  },
  {
   "cell_type": "code",
   "id": "752bc25e",
   "metadata": {},
   "source": [
    "path = \"./models/\""
   ],
   "outputs": [],
   "execution_count": null
  },
  {
   "cell_type": "code",
   "id": "15694a6a",
   "metadata": {},
   "source": [
    "name = f\"QLearning gamma {gamma} lr {lr_v} epsilon linear from 1 to 015 with 0999 as coefficient vn1 plus fd 1000 max iterations\"\n",
    "Q_p.save(f\"{path}{name}\")"
   ],
   "outputs": [],
   "execution_count": null
  },
  {
   "cell_type": "code",
   "id": "b2c332b4",
   "metadata": {},
   "source": [
    "Q_p.upload(f\"{path}{name}\")"
   ],
   "outputs": [],
   "execution_count": null
  },
  {
   "cell_type": "code",
   "id": "d76db54d",
   "metadata": {},
   "source": [
    "env = SnakeEnv(render_mode=\"human\", max_step=1000)\n",
    "Q_p.play(env, bracketer)"
   ],
   "outputs": [],
   "execution_count": null
  },
  {
   "cell_type": "markdown",
   "id": "3f45dbe8",
   "metadata": {},
   "source": "## SARSA"
  },
  {
   "cell_type": "code",
   "id": "2e6cf90f",
   "metadata": {},
   "source": [
    "# Environment\n",
    "epsilon_schedule = LinearEpsilonDecay(eps = 1, coefficient=0.9999, minimum=0.30)\n",
    "env = SnakeEnv(render_mode=\"nonhuman\", max_step=1000)\n",
    "SARSA_p = SARSA(env.action_space.n, gamma=gamma, lr_v=lr_v)\n",
    "bracketer = FoodDirectionBracket()\n",
    "SARSA_p.learning(env, epsilon_schedule, n_episodes = 50000, bracketer = bracketer)"
   ],
   "outputs": [],
   "execution_count": null
  },
  {
   "cell_type": "code",
   "id": "7d84dfa4",
   "metadata": {},
   "source": [
    "path = \"./models/\"\n",
    "name = f\"SARSA 50000 episodes gamma {gamma} lr {lr_v} epsilon linear from 1 to 030 with 09999 as coefficient vn1 plus fd 1000 max iterations\"\n",
    "SARSA_p.save(f\"{path}{name}\")"
   ],
   "outputs": [],
   "execution_count": null
  },
  {
   "cell_type": "code",
   "id": "f1cd804f",
   "metadata": {},
   "source": [
    "SARSA_p.upload(f\"{path}{name}\")"
   ],
   "outputs": [],
   "execution_count": null
  },
  {
   "cell_type": "code",
   "id": "049625d4",
   "metadata": {},
   "source": [
    "env = SnakeEnv(render_mode=\"human\", max_step=1000)\n",
    "SARSA_p.play(env, bracketer)"
   ],
   "outputs": [],
   "execution_count": null
  },
  {
   "cell_type": "code",
   "id": "6b78bd24",
   "metadata": {},
   "source": [
    "SARSA_p.print_q_values(bracketer)"
   ],
   "outputs": [],
   "execution_count": null
  },
  {
   "cell_type": "markdown",
   "id": "976983c21574e86e",
   "metadata": {},
   "source": "## DDQN\n"
  },
  {
   "cell_type": "code",
   "id": "3edd2cfc86fab5f6",
   "metadata": {},
   "source": [
    "BATCH_SIZE = 128\n",
    "MEMORY_SIZE = 10000\n",
    "TARGET_UPDATE_FREQ = 200\n",
    "\n",
    "# Bracketer\n",
    "bracketer = VonNeumann1NeighPlusFoodRelPosBracket()\n",
    "# General Settings\n",
    "gamma = 0.95\n",
    "lr_v = 0.001\n",
    "epsilon = 0.1\n",
    "n_episodes = 5001\n",
    "epsilon_schedule = LinearEpsilonDecay(eps = 1, coefficient=0.999, minimum=0.05)\n",
    "device = \"cuda\" if torch.cuda.is_available() else \"cpu\"\n",
    "# device = 'xpu' if torch.xpu.is_available() else device\n",
    "print(f\"Using device: {device}\")\n",
    "\n",
    "# Environment\n",
    "env = SnakeEnv(render_mode=\"nonhuman\")\n",
    "state_dim = bracketer.get_state_dim()\n",
    "\n",
    "ddqn = DeepDoubleQLearning(\n",
    "    env.action_space.n,\n",
    "    state_dim=state_dim,\n",
    "    gamma=gamma,\n",
    "    lr_v=lr_v,\n",
    "    batch_size=BATCH_SIZE,\n",
    "    memory_size=MEMORY_SIZE,\n",
    "    target_update_freq=TARGET_UPDATE_FREQ,\n",
    "    device=device\n",
    ")"
   ],
   "outputs": [],
   "execution_count": null
  },
  {
   "cell_type": "code",
   "id": "3019b70901ba8f18",
   "metadata": {},
   "source": [
    "env = SnakeEnv(render_mode=\"nonhuman\")\n",
    "ddqn.learning(env, epsilon_schedule, n_episodes, bracketer)"
   ],
   "outputs": [],
   "execution_count": null
  },
  {
   "cell_type": "code",
   "id": "4a77dd8a245e9973",
   "metadata": {},
   "source": [
    "current_path = os.getcwd()\n",
    "model_path = os.path.join(current_path, \"models/\")\n",
    "model_path += f'DDQN gamma {gamma} lr {lr_v} epsilon {epsilon} episodes {n_episodes} bracketer {bracketer.__class__.__name__}'\n",
    "print(f\"Model path: {model_path}\")"
   ],
   "outputs": [],
   "execution_count": null
  },
  {
   "cell_type": "code",
   "id": "276094db05c61d64",
   "metadata": {},
   "source": "ddqn.save(path=f\"{model_path}DDQN gamma {gamma} lr {lr_v} epsilon {epsilon} episodes {n_episodes} bracketer {bracketer.__class__.__name__}\")",
   "outputs": [],
   "execution_count": null
  },
  {
   "cell_type": "code",
   "id": "74eeb13a6dc86102",
   "metadata": {},
   "source": "ddqn.upload(f\"{model_path}DDQN gamma {gamma} lr {lr_v} epsilon {epsilon} episodes {n_episodes} bracketer {bracketer.__class__.__name__}\")",
   "outputs": [],
   "execution_count": null
  },
  {
   "cell_type": "code",
   "id": "d349154f4083194e",
   "metadata": {},
   "source": [
    "env = SnakeEnv(render_mode='human', max_step=200)\n",
    "ddqn.play(env, bracketer)"
   ],
   "outputs": [],
   "execution_count": null
  },
  {
   "metadata": {},
   "cell_type": "code",
   "source": "get_model_average_score(model_name='DDQN', action_space=env.action_space.n, gamma=gamma, lr_v=lr_v, model_path=model_path, bracketer=bracketer, num_episodes=1000, render_mode='nonhuman', state_dim=state_dim, batch_size=BATCH_SIZE, memory_size=MEMORY_SIZE, target_update_freq=TARGET_UPDATE_FREQ, device=device)",
   "id": "c999c31dc61df1d1",
   "outputs": [],
   "execution_count": null
  },
  {
   "metadata": {},
   "cell_type": "markdown",
   "source": "## DDQN - Ruben Edition",
   "id": "b8dee35f3ef96715"
  },
  {
   "metadata": {},
   "cell_type": "code",
   "source": [
    "env = SnakeEnv(render_mode=\"human\")\n",
    "\n",
    "deepDQL = DeepDQL(env, NN)\n",
    "\n",
    "returns = deepDQL.learnQ(n_traj = 5000, n_traj_for_Qtarget_update=200, batch_size=128)\n",
    "deepDQL.evaluation_averaged()\n",
    "plt.plot(returns)\n",
    "plt.show()"
   ],
   "id": "a73dced3093c2cd8",
   "outputs": [],
   "execution_count": null
  },
  {
   "cell_type": "markdown",
   "id": "47e533fece0d0206",
   "metadata": {},
   "source": "## Monte Carlo"
  },
  {
   "cell_type": "code",
   "id": "bf56d6412785bd98",
   "metadata": {
    "ExecuteTime": {
     "end_time": "2025-05-31T16:52:05.856477Z",
     "start_time": "2025-05-31T16:52:05.839767Z"
    }
   },
   "source": [
    "env = SnakeEnv(render_mode=\"nonhuman\")\n",
    "n_episodes = 5000\n",
    "bracketer = VonNeumann1NeighPlusFoodRelPosBracket()\n",
    "MC = Montecarlo(env.action_space.n, gamma=gamma, lr_v=lr_v)"
   ],
   "outputs": [],
   "execution_count": 4
  },
  {
   "cell_type": "code",
   "id": "96d0b0134fcda960",
   "metadata": {},
   "source": "MC.learning(env, epsilon_schedule, n_episodes, bracketer)",
   "execution_count": 5,
   "outputs": [
    {
     "name": "stdout",
     "output_type": "stream",
     "text": [
      "4999\n"
     ]
    }
   ]
  },
  {
   "cell_type": "code",
   "id": "22decd2ce0d07523",
   "metadata": {
    "ExecuteTime": {
     "end_time": "2025-05-31T17:13:41.807683Z",
     "start_time": "2025-05-31T17:13:41.734535Z"
    }
   },
   "source": [
    "path = \"./models/\"\n",
    "MC.save(f\"{path}MC gamma {gamma} lr {lr_v} epsilon {epsilon_schedule} episodes {n_episodes} bracketer {bracketer.__class__.__name__}\")"
   ],
   "outputs": [],
   "execution_count": 6
  },
  {
   "cell_type": "code",
   "id": "8219ca85cdcdcfb",
   "metadata": {
    "ExecuteTime": {
     "end_time": "2025-05-31T16:51:17.713015Z",
     "start_time": "2025-05-31T16:51:17.686653Z"
    }
   },
   "source": [
    "env = SnakeEnv(render_mode=\"human\")\n",
    "MC.upload(f\"{path}MC gamma {gamma} lr {lr_v} epsilon {epsilon_schedule} episodes {n_episodes} bracketer {bracketer.__class__.__name__}\")"
   ],
   "outputs": [],
   "execution_count": 61
  },
  {
   "cell_type": "code",
   "id": "6c8883e75e237442",
   "metadata": {
    "ExecuteTime": {
     "end_time": "2025-05-31T16:51:29.870268Z",
     "start_time": "2025-05-31T16:51:25.459680Z"
    }
   },
   "source": [
    "MC.play(env, bracketer)"
   ],
   "outputs": [
    {
     "data": {
      "text/plain": [
       "-27.5"
      ]
     },
     "execution_count": 64,
     "metadata": {},
     "output_type": "execute_result"
    }
   ],
   "execution_count": 64
  },
  {
   "metadata": {},
   "cell_type": "code",
   "source": [
    "model_path = f\"{path}MC gamma {gamma} lr {lr_v} epsilon {epsilon_schedule} episodes {n_episodes} bracketer {bracketer.__class__.__name__}\"\n",
    "\n",
    "get_model_average_score(model_name='MC', action_space=env.action_space.n, gamma=gamma, lr_v=lr_v, model_path=model_path, bracketer=bracketer, num_episodes=100, render_mode='nonhuman')"
   ],
   "id": "4d852fbb6a05ea40",
   "execution_count": 7,
   "outputs": [
    {
     "name": "stdout",
     "output_type": "stream",
     "text": [
      "Episode 100/100\n"
     ]
    },
    {
     "data": {
      "text/plain": [
       "-20.965"
      ]
     },
     "execution_count": 7,
     "metadata": {},
     "output_type": "execute_result"
    }
   ]
  }
 ],
 "metadata": {
  "kernelspec": {
   "display_name": "Python 3",
   "language": "python",
   "name": "python3"
  },
  "language_info": {
   "codemirror_mode": {
    "name": "ipython",
    "version": 3
   },
   "file_extension": ".py",
   "mimetype": "text/x-python",
   "name": "python",
   "nbconvert_exporter": "python",
   "pygments_lexer": "ipython3",
   "version": "3.12.0"
  }
 },
 "nbformat": 4,
 "nbformat_minor": 5
}
