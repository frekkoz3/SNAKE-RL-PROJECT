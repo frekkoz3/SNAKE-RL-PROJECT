{
 "cells": [
  {
   "cell_type": "code",
   "execution_count": 1,
   "id": "e66ddfc6",
   "metadata": {},
   "outputs": [],
   "source": [
    "from algorithms import *\n",
    "from snake_environment import *\n",
    "from states_bracket import *"
   ]
  },
  {
   "cell_type": "code",
   "execution_count": 8,
   "id": "c5a0433d",
   "metadata": {},
   "outputs": [],
   "source": [
    "def print_q_value(dictionary):\n",
    "    for d in dictionary:\n",
    "        print(f\"State ({d[0]}, {d[1]}), Action {d[2]} : Value {dictionary[d]}\")\n",
    "\n",
    "def opposite_action(action):\n",
    "    if action == 0:\n",
    "        return 1\n",
    "    if action == 1:\n",
    "        return 0\n",
    "    if action == 2:\n",
    "        return 3\n",
    "    if action == 3:\n",
    "        return 2"
   ]
  },
  {
   "cell_type": "code",
   "execution_count": 3,
   "id": "09da74c4",
   "metadata": {},
   "outputs": [],
   "source": [
    "# Bracketer\n",
    "bracketer = FoodRelativePositionBraket()\n",
    "# General Settings \n",
    "gamma = 0.9\n",
    "lr_v = 0.15\n",
    "epsilon = 0.4\n",
    "n_episodes = 10000"
   ]
  },
  {
   "cell_type": "markdown",
   "id": "2710c15a",
   "metadata": {},
   "source": [
    "Proviamo il QLearning"
   ]
  },
  {
   "cell_type": "code",
   "execution_count": null,
   "id": "cacd472b",
   "metadata": {},
   "outputs": [
    {
     "name": "stdout",
     "output_type": "stream",
     "text": [
      "0\n",
      "500\n",
      "1000\n",
      "1500\n",
      "2000\n",
      "2500\n",
      "3000\n",
      "3500\n"
     ]
    }
   ],
   "source": [
    "# Environment\n",
    "env = SnakeEnv(render_mode=\"nonhuman\")\n",
    "Q_p = QLearning(env.action_space.n, gamma=gamma, lr_v=lr_v)\n",
    "Q_p.learning(env, epsilon, n_episodes, bracketer)"
   ]
  },
  {
   "cell_type": "code",
   "execution_count": null,
   "id": "752bc25e",
   "metadata": {},
   "outputs": [],
   "source": [
    "path = \"./models/\"\n",
    "Q_p.save(f\"{path}gamma {gamma} lr {lr_v} epsilon {epsilon} episodes {n_episodes}\")"
   ]
  },
  {
   "cell_type": "code",
   "execution_count": 11,
   "id": "b2c332b4",
   "metadata": {},
   "outputs": [],
   "source": [
    "env = SnakeEnv(render_mode=\"human\")\n",
    "path = \"./models/\"\n",
    "Q_p = QLearning(env.action_space.n, gamma=gamma, lr_v=lr_v)\n",
    "Q_p.upload(f\"{path}QLearning gamma {gamma} lr {lr_v} epsilon {epsilon} episodes {n_episodes}\")"
   ]
  },
  {
   "cell_type": "code",
   "execution_count": null,
   "id": "d76db54d",
   "metadata": {},
   "outputs": [],
   "source": [
    "Q_p.play(env, bracketer)"
   ]
  },
  {
   "cell_type": "markdown",
   "id": "3f45dbe8",
   "metadata": {},
   "source": [
    "Proviamo SARSA"
   ]
  },
  {
   "cell_type": "code",
   "execution_count": 4,
   "id": "2e6cf90f",
   "metadata": {},
   "outputs": [],
   "source": [
    "# Environment\n",
    "env = SnakeEnv(render_mode=\"nonhuman\")\n",
    "\n",
    "SARSA_p = SARSA(env.action_space.n, gamma=gamma, lr_v=lr_v)\n",
    "#SARSA_p.learning(env, epsilon, n_episodes, bracketer)"
   ]
  },
  {
   "cell_type": "code",
   "execution_count": 6,
   "id": "7d84dfa4",
   "metadata": {},
   "outputs": [],
   "source": [
    "path = \"./models/\"\n",
    "#SARSA_p.save(f\"{path}SARSA gamma {gamma} lr {lr_v} epsilon {epsilon} episodes {n_episodes}\")"
   ]
  },
  {
   "cell_type": "code",
   "execution_count": 7,
   "id": "f1cd804f",
   "metadata": {},
   "outputs": [],
   "source": [
    "SARSA_p.upload(f\"{path}SARSA gamma {gamma} lr {lr_v} epsilon {epsilon} episodes {n_episodes}\")"
   ]
  },
  {
   "cell_type": "code",
   "execution_count": null,
   "id": "049625d4",
   "metadata": {},
   "outputs": [],
   "source": [
    "done = False\n",
    "keep = True\n",
    "env = SnakeEnv(render_mode=\"human\")\n",
    "state, _ = env.reset()\n",
    "state = bracketer.bracket(state)\n",
    "possible_action = [0, 1, 2, 3]\n",
    "last_action = None\n",
    "\n",
    "while not done and keep:\n",
    "    if last_action != None:\n",
    "        possible_action = [0, 1, 2, 3]\n",
    "        possible_action.remove(opposite_action(last_action))\n",
    "    action = SARSA_p.get_action_greedy(state, possible_action=possible_action)\n",
    "    last_action = action\n",
    "    state, reward, done, trunc, inf = env.step(action)\n",
    "    state = bracketer.bracket(state)\n",
    "    keep = env.render()\n",
    "\n",
    "env.close()"
   ]
  },
  {
   "cell_type": "markdown",
   "id": "81949c38",
   "metadata": {},
   "source": [
    "Setting gamma to 0.999 (so having a time horizon of 1000 and a maximum number of steps of 1000) make the agent learn something about how to approach food in order to prevent to end in its own tail. "
   ]
  }
 ],
 "metadata": {
  "kernelspec": {
   "display_name": "Python 3",
   "language": "python",
   "name": "python3"
  },
  "language_info": {
   "codemirror_mode": {
    "name": "ipython",
    "version": 3
   },
   "file_extension": ".py",
   "mimetype": "text/x-python",
   "name": "python",
   "nbconvert_exporter": "python",
   "pygments_lexer": "ipython3",
   "version": "3.12.3"
  }
 },
 "nbformat": 4,
 "nbformat_minor": 5
}
