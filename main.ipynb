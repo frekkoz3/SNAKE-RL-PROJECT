{
 "cells": [
  {
   "cell_type": "code",
   "id": "e66ddfc6",
   "metadata": {
    "ExecuteTime": {
     "end_time": "2025-05-26T17:19:22.149944Z",
     "start_time": "2025-05-26T17:19:18.920886Z"
    }
   },
   "source": [
    "import os\n",
    "\n",
    "from algorithms import *\n",
    "from snake_environment import *\n",
    "from states_bracket import *"
   ],
   "outputs": [],
   "execution_count": 1
  },
  {
   "cell_type": "code",
   "id": "c5a0433d",
   "metadata": {
    "ExecuteTime": {
     "end_time": "2025-05-26T16:17:45.641735Z",
     "start_time": "2025-05-26T16:17:45.632147Z"
    }
   },
   "source": [
    "def print_q_value(dictionary):\n",
    "    for d in dictionary:\n",
    "        print(f\"State ({d[0]}, {d[1]}), Action {d[2]} : Value {dictionary[d]}\")\n",
    "\n",
    "def opposite_action(action):\n",
    "    return {0:1, 1:0, 2:3, 3:2}[action]"
   ],
   "outputs": [],
   "execution_count": 2
  },
  {
   "cell_type": "code",
   "id": "09da74c4",
   "metadata": {
    "ExecuteTime": {
     "end_time": "2025-05-26T18:00:29.328743Z",
     "start_time": "2025-05-26T18:00:29.322146Z"
    }
   },
   "source": [
    "# Bracketer\n",
    "bracketer = FoodRelativePositionBracket()\n",
    "# General Settings \n",
    "gamma = 0.9\n",
    "lr_v = 0.15\n",
    "epsilon = 0.4\n",
    "n_episodes = 5000"
   ],
   "outputs": [],
   "execution_count": 11
  },
  {
   "cell_type": "markdown",
   "id": "2710c15a",
   "metadata": {},
   "source": [
    "Proviamo il QLearning"
   ]
  },
  {
   "cell_type": "code",
   "id": "cacd472b",
   "metadata": {
    "ExecuteTime": {
     "end_time": "2025-05-26T18:04:55.335630Z",
     "start_time": "2025-05-26T18:00:30.766887Z"
    }
   },
   "source": [
    "# Environment\n",
    "env = SnakeEnv(render_mode=\"nonhuman\")\n",
    "Q_p = QLearning(env.action_space.n, gamma=gamma, lr_v=lr_v)\n",
    "Q_p.learning(env, epsilon, n_episodes, bracketer)"
   ],
   "outputs": [
    {
     "name": "stdout",
     "output_type": "stream",
     "text": [
      "0\n",
      "500\n",
      "1000\n"
     ]
    },
    {
     "ename": "KeyboardInterrupt",
     "evalue": "",
     "output_type": "error",
     "traceback": [
      "\u001B[31m---------------------------------------------------------------------------\u001B[39m",
      "\u001B[31mKeyboardInterrupt\u001B[39m                         Traceback (most recent call last)",
      "\u001B[36mCell\u001B[39m\u001B[36m \u001B[39m\u001B[32mIn[12]\u001B[39m\u001B[32m, line 4\u001B[39m\n\u001B[32m      2\u001B[39m env = SnakeEnv(render_mode=\u001B[33m\"\u001B[39m\u001B[33mnonhuman\u001B[39m\u001B[33m\"\u001B[39m)\n\u001B[32m      3\u001B[39m Q_p = QLearning(env.action_space.n, gamma=gamma, lr_v=lr_v)\n\u001B[32m----> \u001B[39m\u001B[32m4\u001B[39m \u001B[43mQ_p\u001B[49m\u001B[43m.\u001B[49m\u001B[43mlearning\u001B[49m\u001B[43m(\u001B[49m\u001B[43menv\u001B[49m\u001B[43m,\u001B[49m\u001B[43m \u001B[49m\u001B[43mepsilon\u001B[49m\u001B[43m,\u001B[49m\u001B[43m \u001B[49m\u001B[43mn_episodes\u001B[49m\u001B[43m,\u001B[49m\u001B[43m \u001B[49m\u001B[43mbracketer\u001B[49m\u001B[43m)\u001B[49m\n",
      "\u001B[36mFile \u001B[39m\u001B[32mD:\\university\\reinforcement\\project\\algorithms.py:232\u001B[39m, in \u001B[36mRLAlgorithm.learning\u001B[39m\u001B[34m(self, env, eps, n_episodes, bracketer)\u001B[39m\n\u001B[32m    228\u001B[39m performance_traj[i] += reward\n\u001B[32m    230\u001B[39m new_a = \u001B[38;5;28mself\u001B[39m.get_action_epsilon_greedy(new_s, eps, possible_actions)\n\u001B[32m--> \u001B[39m\u001B[32m232\u001B[39m \u001B[38;5;28;43mself\u001B[39;49m\u001B[43m.\u001B[49m\u001B[43msingle_step_update\u001B[49m\u001B[43m(\u001B[49m\u001B[43mstate\u001B[49m\u001B[43m,\u001B[49m\u001B[43m \u001B[49m\u001B[43maction\u001B[49m\u001B[43m,\u001B[49m\u001B[43m \u001B[49m\u001B[43mreward\u001B[49m\u001B[43m,\u001B[49m\u001B[43m \u001B[49m\u001B[43mnew_s\u001B[49m\u001B[43m,\u001B[49m\u001B[43m \u001B[49m\u001B[43mnew_a\u001B[49m\u001B[43m,\u001B[49m\u001B[43m \u001B[49m\u001B[43mdone\u001B[49m\u001B[43m)\u001B[49m\n\u001B[32m    234\u001B[39m action = new_a\n\u001B[32m    235\u001B[39m state = new_s\n",
      "\u001B[36mFile \u001B[39m\u001B[32mD:\\university\\reinforcement\\project\\algorithms.py:387\u001B[39m, in \u001B[36mQLearning.single_step_update\u001B[39m\u001B[34m(self, s, a, r, new_s, new_a, done)\u001B[39m\n\u001B[32m    384\u001B[39m     deltaQ = r - \u001B[38;5;28mself\u001B[39m.Qvalues[(*s, a)]\n\u001B[32m    385\u001B[39m \u001B[38;5;28;01melse\u001B[39;00m:\n\u001B[32m    386\u001B[39m     \u001B[38;5;66;03m# QLearning: deltaQ = R + gamma*maxQ(*new_s,) - Q(s,a)\u001B[39;00m\n\u001B[32m--> \u001B[39m\u001B[32m387\u001B[39m     deltaQ = r + \u001B[38;5;28mself\u001B[39m.gamma*\u001B[43mmax_over_dict_given_subkey\u001B[49m\u001B[43m(\u001B[49m\u001B[38;5;28;43mself\u001B[39;49m\u001B[43m.\u001B[49m\u001B[43mQvalues\u001B[49m\u001B[43m,\u001B[49m\u001B[43m \u001B[49m\u001B[43m(\u001B[49m\u001B[43m*\u001B[49m\u001B[43mnew_s\u001B[49m\u001B[43m,\u001B[49m\u001B[43m)\u001B[49m\u001B[43m,\u001B[49m\u001B[43m \u001B[49m\u001B[43mdefault\u001B[49m\u001B[43m=\u001B[49m\u001B[43m[\u001B[49m\u001B[43mi\u001B[49m\u001B[43m \u001B[49m\u001B[38;5;28;43;01mfor\u001B[39;49;00m\u001B[43m \u001B[49m\u001B[43mi\u001B[49m\u001B[43m \u001B[49m\u001B[38;5;129;43;01min\u001B[39;49;00m\u001B[43m \u001B[49m\u001B[38;5;28;43mrange\u001B[39;49m\u001B[43m \u001B[49m\u001B[43m(\u001B[49m\u001B[38;5;28;43mself\u001B[39;49m\u001B[43m.\u001B[49m\u001B[43maction_space\u001B[49m\u001B[43m)\u001B[49m\u001B[43m]\u001B[49m\u001B[43m)\u001B[49m - \u001B[38;5;28mself\u001B[39m.Qvalues[(*s, a)]\n\u001B[32m    389\u001B[39m \u001B[38;5;28mself\u001B[39m.Qvalues[(*s, a)] += \u001B[38;5;28mself\u001B[39m.lr_v * deltaQ\n",
      "\u001B[36mFile \u001B[39m\u001B[32mD:\\university\\reinforcement\\project\\algorithms.py:80\u001B[39m, in \u001B[36mmax_over_dict_given_subkey\u001B[39m\u001B[34m(dictionary, sub_key, default)\u001B[39m\n\u001B[32m     73\u001B[39m \u001B[38;5;28;01mdef\u001B[39;00m\u001B[38;5;250m \u001B[39m\u001B[34mmax_over_dict_given_subkey\u001B[39m(dictionary, sub_key, default = [\u001B[32m0\u001B[39m, \u001B[32m1\u001B[39m, \u001B[32m2\u001B[39m, \u001B[32m3\u001B[39m]):\n\u001B[32m     74\u001B[39m \u001B[38;5;250m    \u001B[39m\u001B[33;03m\"\"\"\u001B[39;00m\n\u001B[32m     75\u001B[39m \u001B[33;03m        Input : dictionary, sub_key\u001B[39;00m\n\u001B[32m     76\u001B[39m \u001B[33;03m        Output : argmax of all the elements in the dictionary sharing the sub_key   \u001B[39;00m\n\u001B[32m     77\u001B[39m \u001B[33;03m        This is implemented exactly with the subkey being the first two elements of the key of the dictionary, \u001B[39;00m\n\u001B[32m     78\u001B[39m \u001B[33;03m        in which key are tuple of three elements. [ key = (x, y, z), subkey = (x, y)] \u001B[39;00m\n\u001B[32m     79\u001B[39m \u001B[33;03m    \"\"\"\u001B[39;00m\n\u001B[32m---> \u001B[39m\u001B[32m80\u001B[39m     \u001B[43mcomplete_subkey\u001B[49m\u001B[43m(\u001B[49m\u001B[43mdictionary\u001B[49m\u001B[43m,\u001B[49m\u001B[43m \u001B[49m\u001B[43msub_key\u001B[49m\u001B[43m,\u001B[49m\u001B[43m \u001B[49m\u001B[43mdefault\u001B[49m\u001B[43m)\u001B[49m\n\u001B[32m     81\u001B[39m     sub_d = defaultdict(\u001B[38;5;28mint\u001B[39m)\n\u001B[32m     82\u001B[39m     \u001B[38;5;28;01mfor\u001B[39;00m d \u001B[38;5;129;01min\u001B[39;00m dictionary:\n",
      "\u001B[36mFile \u001B[39m\u001B[32mD:\\university\\reinforcement\\project\\algorithms.py:93\u001B[39m, in \u001B[36mcomplete_subkey\u001B[39m\u001B[34m(dictionary, sub_key, default)\u001B[39m\n\u001B[32m     91\u001B[39m s = \u001B[32m0\u001B[39m\n\u001B[32m     92\u001B[39m \u001B[38;5;28;01mfor\u001B[39;00m d \u001B[38;5;129;01min\u001B[39;00m dictionary:\n\u001B[32m---> \u001B[39m\u001B[32m93\u001B[39m     \u001B[38;5;28;01mif\u001B[39;00m \u001B[38;5;28mtuple\u001B[39m((d[\u001B[32m0\u001B[39m], d[\u001B[32m1\u001B[39m])) == sub_key:\n\u001B[32m     94\u001B[39m         s += \u001B[32m1\u001B[39m\n\u001B[32m     95\u001B[39m \u001B[38;5;28;01mif\u001B[39;00m s < \u001B[38;5;28mlen\u001B[39m(default):\n",
      "\u001B[31mKeyboardInterrupt\u001B[39m: "
     ]
    }
   ],
   "execution_count": 12
  },
  {
   "cell_type": "code",
   "execution_count": null,
   "id": "752bc25e",
   "metadata": {},
   "outputs": [],
   "source": [
    "path = \"./models/\"\n",
    "Q_p.save(f\"{path}gamma {gamma} lr {lr_v} epsilon {epsilon} episodes {n_episodes}\")"
   ]
  },
  {
   "cell_type": "code",
   "id": "b2c332b4",
   "metadata": {
    "ExecuteTime": {
     "end_time": "2025-05-26T13:19:12.284109Z",
     "start_time": "2025-05-26T13:19:12.207627Z"
    }
   },
   "source": [
    "env = SnakeEnv(render_mode=\"human\")\n",
    "path = \"./models/\"\n",
    "Q_p = QLearning(env.action_space.n, gamma=gamma, lr_v=lr_v)\n",
    "Q_p.upload(f\"{path}QLearning gamma {gamma} lr {lr_v} epsilon {epsilon} episodes {n_episodes}\")"
   ],
   "outputs": [],
   "execution_count": 5
  },
  {
   "cell_type": "code",
   "id": "d76db54d",
   "metadata": {
    "ExecuteTime": {
     "end_time": "2025-05-26T13:19:19.733525Z",
     "start_time": "2025-05-26T13:19:13.944921Z"
    }
   },
   "source": [
    "Q_p.play(env, bracketer)"
   ],
   "outputs": [],
   "execution_count": 6
  },
  {
   "cell_type": "markdown",
   "id": "3f45dbe8",
   "metadata": {},
   "source": [
    "Proviamo SARSA"
   ]
  },
  {
   "cell_type": "code",
   "id": "2e6cf90f",
   "metadata": {
    "ExecuteTime": {
     "end_time": "2025-05-26T12:58:01.731940Z",
     "start_time": "2025-05-26T12:58:01.722112Z"
    }
   },
   "source": [
    "# Environment\n",
    "env = SnakeEnv(render_mode=\"nonhuman\")\n",
    "\n",
    "SARSA_p = SARSA(env.action_space.n, gamma=gamma, lr_v=lr_v)\n",
    "#SARSA_p.learning(env, epsilon, n_episodes, bracketer)"
   ],
   "outputs": [],
   "execution_count": 7
  },
  {
   "cell_type": "code",
   "execution_count": 6,
   "id": "7d84dfa4",
   "metadata": {},
   "outputs": [],
   "source": [
    "path = \"./models/\"\n",
    "#SARSA_p.save(f\"{path}SARSA gamma {gamma} lr {lr_v} epsilon {epsilon} episodes {n_episodes}\")"
   ]
  },
  {
   "cell_type": "code",
   "id": "f1cd804f",
   "metadata": {
    "ExecuteTime": {
     "end_time": "2025-05-26T12:58:03.107513Z",
     "start_time": "2025-05-26T12:58:03.094175Z"
    }
   },
   "source": [
    "SARSA_p.upload(f\"{path}SARSA gamma {gamma} lr {lr_v} epsilon {epsilon} episodes {n_episodes}\")"
   ],
   "outputs": [],
   "execution_count": 8
  },
  {
   "cell_type": "code",
   "id": "049625d4",
   "metadata": {
    "ExecuteTime": {
     "end_time": "2025-05-26T12:58:41.397611Z",
     "start_time": "2025-05-26T12:58:35.963502Z"
    }
   },
   "source": [
    "done = False\n",
    "keep = True\n",
    "env = SnakeEnv(render_mode=\"human\")\n",
    "state, _ = env.reset()\n",
    "state = bracketer.bracket(state)\n",
    "possible_action = [0, 1, 2, 3]\n",
    "last_action = None\n",
    "\n",
    "while not done and keep:\n",
    "    if last_action != None:\n",
    "        possible_action = [0, 1, 2, 3]\n",
    "        possible_action.remove(opposite_action(last_action))\n",
    "    action = SARSA_p.get_action_greedy(state, possible_action=possible_action)\n",
    "    last_action = action\n",
    "    state, reward, done, trunc, inf = env.step(action)\n",
    "    state = bracketer.bracket(state)\n",
    "    keep = env.render()\n",
    "\n",
    "env.close()"
   ],
   "outputs": [],
   "execution_count": 12
  },
  {
   "cell_type": "markdown",
   "id": "81949c38",
   "metadata": {},
   "source": "Setting gamma to 0.999 (so having a time horizon of 1000 and a maximum number of steps of 1000) make the agent learn something about how to approach food in order to prevent to end in its own tail."
  },
  {
   "metadata": {},
   "cell_type": "markdown",
   "source": "Proviamo DDQN\n",
   "id": "976983c21574e86e"
  },
  {
   "metadata": {
    "ExecuteTime": {
     "end_time": "2025-05-26T15:58:16.143367Z",
     "start_time": "2025-05-26T15:58:13.990956Z"
    }
   },
   "cell_type": "code",
   "source": [
    "BATCH_SIZE = 128\n",
    "MEMORY_SIZE = 10000\n",
    "TARGET_UPDATE_FREQ = 200\n",
    "\n",
    "# Bracketer\n",
    "bracketer = FoodRelativePositionBracket()\n",
    "# General Settings\n",
    "gamma = 0.95\n",
    "lr_v = 0.001\n",
    "epsilon = 0.1\n",
    "n_episodes = 20001\n",
    "\n",
    "# Environment\n",
    "env = SnakeEnv(render_mode=\"nonhuman\")\n",
    "state_dim = bracketer.get_state_dim()\n",
    "\n",
    "ddqn = DeepDoubleQLearning(\n",
    "    env.action_space.n,\n",
    "    state_dim=state_dim,\n",
    "    gamma=gamma,\n",
    "    lr_v=lr_v,\n",
    "    batch_size=BATCH_SIZE,\n",
    "    memory_size=MEMORY_SIZE,\n",
    "    target_update_freq=TARGET_UPDATE_FREQ,\n",
    "    device='cpu'\n",
    ")"
   ],
   "id": "3edd2cfc86fab5f6",
   "outputs": [],
   "execution_count": 3
  },
  {
   "metadata": {
    "ExecuteTime": {
     "end_time": "2025-05-26T15:56:28.471606Z",
     "start_time": "2025-05-26T15:27:22.209136Z"
    }
   },
   "cell_type": "code",
   "source": [
    "env = SnakeEnv(render_mode=\"nonhuman\")\n",
    "ddqn.learning(env, epsilon, n_episodes, bracketer)"
   ],
   "id": "3019b70901ba8f18",
   "outputs": [
    {
     "name": "stdout",
     "output_type": "stream",
     "text": [
      "0\n",
      "500\n",
      "1000\n",
      "1500\n",
      "2000\n",
      "2500\n",
      "3000\n",
      "3500\n",
      "4000\n",
      "4500\n",
      "5000\n",
      "5500\n",
      "6000\n",
      "6500\n",
      "7000\n",
      "7500\n",
      "8000\n",
      "8500\n",
      "9000\n",
      "9500\n",
      "10000\n",
      "10500\n",
      "11000\n",
      "11500\n",
      "12000\n",
      "12500\n",
      "13000\n",
      "13500\n",
      "14000\n",
      "14500\n",
      "15000\n",
      "15500\n",
      "16000\n",
      "16500\n",
      "17000\n",
      "17500\n",
      "18000\n",
      "18500\n",
      "19000\n",
      "19500\n",
      "20000\n"
     ]
    }
   ],
   "execution_count": 4
  },
  {
   "metadata": {
    "ExecuteTime": {
     "end_time": "2025-05-26T15:58:21.627843Z",
     "start_time": "2025-05-26T15:58:21.619725Z"
    }
   },
   "cell_type": "code",
   "source": [
    "current_path = os.getcwd()\n",
    "model_path = os.path.join(current_path, \"models/\")\n",
    "print(f\"Model path: {model_path}\")"
   ],
   "id": "4a77dd8a245e9973",
   "outputs": [
    {
     "name": "stdout",
     "output_type": "stream",
     "text": [
      "Model path: D:\\university\\reinforcement\\project\\models/\n"
     ]
    }
   ],
   "execution_count": 5
  },
  {
   "metadata": {
    "ExecuteTime": {
     "end_time": "2025-05-26T15:56:37.853044Z",
     "start_time": "2025-05-26T15:56:37.827727Z"
    }
   },
   "cell_type": "code",
   "source": "ddqn.save(f\"{model_path}DDQN gamma {gamma} lr {lr_v} epsilon {epsilon} episodes {n_episodes}\")",
   "id": "276094db05c61d64",
   "outputs": [],
   "execution_count": 6
  },
  {
   "metadata": {
    "ExecuteTime": {
     "end_time": "2025-05-26T15:58:23.093871Z",
     "start_time": "2025-05-26T15:58:23.078520Z"
    }
   },
   "cell_type": "code",
   "source": [
    "env = SnakeEnv(render_mode=\"human\")\n",
    "state_dim = bracketer.get_state_dim()\n",
    "ddqn = DeepDoubleQLearning(\n",
    "    env.action_space.n,\n",
    "    state_dim=state_dim,\n",
    "    gamma=gamma,\n",
    "    lr_v=lr_v,\n",
    "    batch_size=BATCH_SIZE,\n",
    "    memory_size=MEMORY_SIZE,\n",
    "    target_update_freq=TARGET_UPDATE_FREQ\n",
    ")\n",
    "ddqn.upload(f\"{model_path}DDQN gamma {gamma} lr {lr_v} epsilon {epsilon} episodes {n_episodes}\")"
   ],
   "id": "74eeb13a6dc86102",
   "outputs": [],
   "execution_count": 6
  },
  {
   "metadata": {
    "ExecuteTime": {
     "end_time": "2025-05-26T15:59:14.654133Z",
     "start_time": "2025-05-26T15:59:11.954014Z"
    }
   },
   "cell_type": "code",
   "source": "ddqn.play(env, bracketer)",
   "id": "d349154f4083194e",
   "outputs": [],
   "execution_count": 24
  },
  {
   "metadata": {},
   "cell_type": "markdown",
   "source": "Monte Carlo",
   "id": "47e533fece0d0206"
  },
  {
   "metadata": {
    "ExecuteTime": {
     "end_time": "2025-05-26T17:19:29.170166Z",
     "start_time": "2025-05-26T17:19:29.158703Z"
    }
   },
   "cell_type": "code",
   "source": [
    "env = SnakeEnv(render_mode=\"nonhuman\")\n",
    "\n",
    "MC = Montecarlo(env.action_space.n, gamma=gamma, lr_v=lr_v)"
   ],
   "id": "bf56d6412785bd98",
   "outputs": [],
   "execution_count": 4
  },
  {
   "metadata": {
    "ExecuteTime": {
     "end_time": "2025-05-26T17:23:15.724812Z",
     "start_time": "2025-05-26T17:19:29.573604Z"
    }
   },
   "cell_type": "code",
   "source": "MC.learning(env, epsilon, n_episodes, bracketer)",
   "id": "96d0b0134fcda960",
   "outputs": [
    {
     "name": "stderr",
     "output_type": "stream",
     "text": [
      "C:\\Users\\enric\\AppData\\Local\\Packages\\PythonSoftwareFoundation.Python.3.12_qbz5n2kfra8p0\\LocalCache\\local-packages\\Python312\\site-packages\\numpy\\_core\\fromnumeric.py:3860: RuntimeWarning: Mean of empty slice.\n",
      "  return _methods._mean(a, axis=axis, dtype=dtype,\n",
      "C:\\Users\\enric\\AppData\\Local\\Packages\\PythonSoftwareFoundation.Python.3.12_qbz5n2kfra8p0\\LocalCache\\local-packages\\Python312\\site-packages\\numpy\\_core\\_methods.py:145: RuntimeWarning: invalid value encountered in scalar divide\n",
      "  ret = ret.dtype.type(ret / rcount)\n"
     ]
    },
    {
     "name": "stdout",
     "output_type": "stream",
     "text": [
      "0\n",
      "500\n",
      "1000\n",
      "1500\n",
      "2000\n",
      "2500\n",
      "3000\n",
      "3500\n",
      "4000\n",
      "4500\n",
      "5000\n",
      "5500\n",
      "6000\n",
      "6500\n",
      "7000\n",
      "7500\n",
      "8000\n",
      "8500\n",
      "9000\n",
      "9500\n",
      "10000\n",
      "10500\n",
      "11000\n",
      "11500\n",
      "12000\n",
      "12500\n",
      "13000\n",
      "13500\n",
      "14000\n",
      "14500\n",
      "15000\n",
      "15500\n",
      "16000\n",
      "16500\n",
      "17000\n",
      "17500\n",
      "18000\n",
      "18500\n",
      "19000\n",
      "19500\n",
      "20000\n",
      "20500\n",
      "21000\n",
      "21500\n",
      "22000\n",
      "22500\n",
      "23000\n",
      "23500\n",
      "24000\n"
     ]
    },
    {
     "ename": "KeyboardInterrupt",
     "evalue": "",
     "output_type": "error",
     "traceback": [
      "\u001B[31m---------------------------------------------------------------------------\u001B[39m",
      "\u001B[31mKeyboardInterrupt\u001B[39m                         Traceback (most recent call last)",
      "\u001B[36mCell\u001B[39m\u001B[36m \u001B[39m\u001B[32mIn[5]\u001B[39m\u001B[32m, line 1\u001B[39m\n\u001B[32m----> \u001B[39m\u001B[32m1\u001B[39m \u001B[43mMC\u001B[49m\u001B[43m.\u001B[49m\u001B[43mlearning\u001B[49m\u001B[43m(\u001B[49m\u001B[43menv\u001B[49m\u001B[43m,\u001B[49m\u001B[43m \u001B[49m\u001B[43mepsilon\u001B[49m\u001B[43m,\u001B[49m\u001B[43m \u001B[49m\u001B[43mn_episodes\u001B[49m\u001B[43m,\u001B[49m\u001B[43m \u001B[49m\u001B[43mbracketer\u001B[49m\u001B[43m)\u001B[49m\n",
      "\u001B[36mFile \u001B[39m\u001B[32mD:\\university\\reinforcement\\project\\algorithms.py:321\u001B[39m, in \u001B[36mMontecarlo.learning\u001B[39m\u001B[34m(self, env, eps, n_episodes, bracketer)\u001B[39m\n\u001B[32m    317\u001B[39m performance_traj[i] += reward\n\u001B[32m    319\u001B[39m episode.append((state, action, reward))\n\u001B[32m--> \u001B[39m\u001B[32m321\u001B[39m new_a = \u001B[38;5;28;43mself\u001B[39;49m\u001B[43m.\u001B[49m\u001B[43mget_action_epsilon_greedy\u001B[49m\u001B[43m(\u001B[49m\u001B[43mnew_s\u001B[49m\u001B[43m,\u001B[49m\u001B[43m \u001B[49m\u001B[43meps\u001B[49m\u001B[43m,\u001B[49m\u001B[43m \u001B[49m\u001B[43mpossible_actions\u001B[49m\u001B[43m)\u001B[49m\n\u001B[32m    323\u001B[39m state = new_s\n\u001B[32m    324\u001B[39m action = new_a\n",
      "\u001B[36mFile \u001B[39m\u001B[32mD:\\university\\reinforcement\\project\\algorithms.py:188\u001B[39m, in \u001B[36mRLAlgorithm.get_action_epsilon_greedy\u001B[39m\u001B[34m(self, s, eps, possible_actions)\u001B[39m\n\u001B[32m    186\u001B[39m \u001B[38;5;28;01melse\u001B[39;00m:\n\u001B[32m    187\u001B[39m     prob_actions = np.zeros(\u001B[38;5;28mlen\u001B[39m(possible_actions))\n\u001B[32m--> \u001B[39m\u001B[32m188\u001B[39m     best_action = \u001B[43margmax_over_dict_given_subkey_and_possible_action\u001B[49m\u001B[43m(\u001B[49m\u001B[38;5;28;43mself\u001B[39;49m\u001B[43m.\u001B[49m\u001B[43mQvalues\u001B[49m\u001B[43m,\u001B[49m\u001B[43m \u001B[49m\u001B[43m(\u001B[49m\u001B[43m*\u001B[49m\u001B[43ms\u001B[49m\u001B[43m,\u001B[49m\u001B[43m \u001B[49m\u001B[43m)\u001B[49m\u001B[43m,\u001B[49m\u001B[43m \u001B[49m\u001B[43mpossible_actions\u001B[49m\u001B[43m,\u001B[49m\u001B[43m \u001B[49m\u001B[43mdefault\u001B[49m\u001B[43m=\u001B[49m\u001B[43m[\u001B[49m\u001B[43mi\u001B[49m\u001B[43m \u001B[49m\u001B[38;5;28;43;01mfor\u001B[39;49;00m\u001B[43m \u001B[49m\u001B[43mi\u001B[49m\u001B[43m \u001B[49m\u001B[38;5;129;43;01min\u001B[39;49;00m\u001B[43m \u001B[49m\u001B[43mpossible_actions\u001B[49m\u001B[43m]\u001B[49m\u001B[43m)\u001B[49m[\u001B[32m2\u001B[39m]\n\u001B[32m    189\u001B[39m     best_idx = possible_actions.index(best_action)\n\u001B[32m    190\u001B[39m     prob_actions[best_idx] = \u001B[32m1\u001B[39m\n",
      "\u001B[36mFile \u001B[39m\u001B[32mD:\\university\\reinforcement\\project\\algorithms.py:59\u001B[39m, in \u001B[36margmax_over_dict_given_subkey_and_possible_action\u001B[39m\u001B[34m(dictionary, sub_key, possible_action, default)\u001B[39m\n\u001B[32m     57\u001B[39m     \u001B[38;5;28;01mif\u001B[39;00m \u001B[38;5;28mtuple\u001B[39m((d[\u001B[32m0\u001B[39m], d[\u001B[32m1\u001B[39m])) == sub_key \u001B[38;5;129;01mand\u001B[39;00m d[\u001B[32m2\u001B[39m] \u001B[38;5;129;01min\u001B[39;00m possible_action:\n\u001B[32m     58\u001B[39m         sub_d[d] = dictionary[d]\n\u001B[32m---> \u001B[39m\u001B[32m59\u001B[39m \u001B[38;5;28;01mreturn\u001B[39;00m \u001B[43margmax_over_dict\u001B[49m\u001B[43m(\u001B[49m\u001B[43msub_d\u001B[49m\u001B[43m)\u001B[49m\n",
      "\u001B[36mFile \u001B[39m\u001B[32mD:\\university\\reinforcement\\project\\algorithms.py:28\u001B[39m, in \u001B[36margmax_over_dict\u001B[39m\u001B[34m(dictionary)\u001B[39m\n\u001B[32m     26\u001B[39m values = np.array(\u001B[38;5;28mlist\u001B[39m(d.values()))\n\u001B[32m     27\u001B[39m \u001B[38;5;66;03m# Find the key with the max value\u001B[39;00m\n\u001B[32m---> \u001B[39m\u001B[32m28\u001B[39m max_key = keys[\u001B[43mnp\u001B[49m\u001B[43m.\u001B[49m\u001B[43margmax\u001B[49m\u001B[43m(\u001B[49m\u001B[43mvalues\u001B[49m\u001B[43m)\u001B[49m]\n\u001B[32m     29\u001B[39m \u001B[38;5;28;01mreturn\u001B[39;00m max_key\n",
      "\u001B[36mFile \u001B[39m\u001B[32m~\\AppData\\Local\\Packages\\PythonSoftwareFoundation.Python.3.12_qbz5n2kfra8p0\\LocalCache\\local-packages\\Python312\\site-packages\\numpy\\_core\\fromnumeric.py:1342\u001B[39m, in \u001B[36margmax\u001B[39m\u001B[34m(a, axis, out, keepdims)\u001B[39m\n\u001B[32m   1253\u001B[39m \u001B[38;5;250m\u001B[39m\u001B[33;03m\"\"\"\u001B[39;00m\n\u001B[32m   1254\u001B[39m \u001B[33;03mReturns the indices of the maximum values along an axis.\u001B[39;00m\n\u001B[32m   1255\u001B[39m \n\u001B[32m   (...)\u001B[39m\u001B[32m   1339\u001B[39m \u001B[33;03m(2, 1, 4)\u001B[39;00m\n\u001B[32m   1340\u001B[39m \u001B[33;03m\"\"\"\u001B[39;00m\n\u001B[32m   1341\u001B[39m kwds = {\u001B[33m'\u001B[39m\u001B[33mkeepdims\u001B[39m\u001B[33m'\u001B[39m: keepdims} \u001B[38;5;28;01mif\u001B[39;00m keepdims \u001B[38;5;129;01mis\u001B[39;00m \u001B[38;5;129;01mnot\u001B[39;00m np._NoValue \u001B[38;5;28;01melse\u001B[39;00m {}\n\u001B[32m-> \u001B[39m\u001B[32m1342\u001B[39m \u001B[38;5;28;01mreturn\u001B[39;00m \u001B[43m_wrapfunc\u001B[49m\u001B[43m(\u001B[49m\u001B[43ma\u001B[49m\u001B[43m,\u001B[49m\u001B[43m \u001B[49m\u001B[33;43m'\u001B[39;49m\u001B[33;43margmax\u001B[39;49m\u001B[33;43m'\u001B[39;49m\u001B[43m,\u001B[49m\u001B[43m \u001B[49m\u001B[43maxis\u001B[49m\u001B[43m=\u001B[49m\u001B[43maxis\u001B[49m\u001B[43m,\u001B[49m\u001B[43m \u001B[49m\u001B[43mout\u001B[49m\u001B[43m=\u001B[49m\u001B[43mout\u001B[49m\u001B[43m,\u001B[49m\u001B[43m \u001B[49m\u001B[43m*\u001B[49m\u001B[43m*\u001B[49m\u001B[43mkwds\u001B[49m\u001B[43m)\u001B[49m\n",
      "\u001B[36mFile \u001B[39m\u001B[32m~\\AppData\\Local\\Packages\\PythonSoftwareFoundation.Python.3.12_qbz5n2kfra8p0\\LocalCache\\local-packages\\Python312\\site-packages\\numpy\\_core\\fromnumeric.py:57\u001B[39m, in \u001B[36m_wrapfunc\u001B[39m\u001B[34m(obj, method, *args, **kwds)\u001B[39m\n\u001B[32m     54\u001B[39m     \u001B[38;5;28;01mreturn\u001B[39;00m _wrapit(obj, method, *args, **kwds)\n\u001B[32m     56\u001B[39m \u001B[38;5;28;01mtry\u001B[39;00m:\n\u001B[32m---> \u001B[39m\u001B[32m57\u001B[39m     \u001B[38;5;28;01mreturn\u001B[39;00m \u001B[43mbound\u001B[49m\u001B[43m(\u001B[49m\u001B[43m*\u001B[49m\u001B[43margs\u001B[49m\u001B[43m,\u001B[49m\u001B[43m \u001B[49m\u001B[43m*\u001B[49m\u001B[43m*\u001B[49m\u001B[43mkwds\u001B[49m\u001B[43m)\u001B[49m\n\u001B[32m     58\u001B[39m \u001B[38;5;28;01mexcept\u001B[39;00m \u001B[38;5;167;01mTypeError\u001B[39;00m:\n\u001B[32m     59\u001B[39m     \u001B[38;5;66;03m# A TypeError occurs if the object does have such a method in its\u001B[39;00m\n\u001B[32m     60\u001B[39m     \u001B[38;5;66;03m# class, but its signature is not identical to that of NumPy's. This\u001B[39;00m\n\u001B[32m   (...)\u001B[39m\u001B[32m     64\u001B[39m     \u001B[38;5;66;03m# Call _wrapit from within the except clause to ensure a potential\u001B[39;00m\n\u001B[32m     65\u001B[39m     \u001B[38;5;66;03m# exception has a traceback chain.\u001B[39;00m\n\u001B[32m     66\u001B[39m     \u001B[38;5;28;01mreturn\u001B[39;00m _wrapit(obj, method, *args, **kwds)\n",
      "\u001B[31mKeyboardInterrupt\u001B[39m: "
     ]
    }
   ],
   "execution_count": 5
  },
  {
   "metadata": {
    "ExecuteTime": {
     "end_time": "2025-05-26T17:23:18.675525Z",
     "start_time": "2025-05-26T17:23:18.649489Z"
    }
   },
   "cell_type": "code",
   "source": [
    "path = \"./models/\"\n",
    "MC.save(f\"{path}MC gamma {gamma} lr {lr_v} epsilon {epsilon} episodes {n_episodes}\")"
   ],
   "id": "22decd2ce0d07523",
   "outputs": [],
   "execution_count": 6
  },
  {
   "metadata": {
    "ExecuteTime": {
     "end_time": "2025-05-26T17:23:19.938652Z",
     "start_time": "2025-05-26T17:23:19.752468Z"
    }
   },
   "cell_type": "code",
   "source": [
    "env = SnakeEnv(render_mode=\"human\")\n",
    "MC = Montecarlo(env.action_space.n, gamma=gamma, lr_v=lr_v)\n",
    "MC.upload(f\"{path}MC gamma {gamma} lr {lr_v} epsilon {epsilon} episodes {n_episodes}\")"
   ],
   "id": "8219ca85cdcdcfb",
   "outputs": [],
   "execution_count": 7
  },
  {
   "metadata": {
    "ExecuteTime": {
     "end_time": "2025-05-26T17:23:28.979564Z",
     "start_time": "2025-05-26T17:23:27.268608Z"
    }
   },
   "cell_type": "code",
   "source": "MC.play(env, bracketer)",
   "id": "6c8883e75e237442",
   "outputs": [],
   "execution_count": 10
  }
 ],
 "metadata": {
  "kernelspec": {
   "display_name": "Python 3",
   "language": "python",
   "name": "python3"
  },
  "language_info": {
   "codemirror_mode": {
    "name": "ipython",
    "version": 3
   },
   "file_extension": ".py",
   "mimetype": "text/x-python",
   "name": "python",
   "nbconvert_exporter": "python",
   "pygments_lexer": "ipython3",
   "version": "3.12.3"
  }
 },
 "nbformat": 4,
 "nbformat_minor": 5
}
