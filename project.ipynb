{
 "cells": [
  {
   "cell_type": "markdown",
   "id": "8e5b1edd",
   "metadata": {},
   "source": [
    "# Jupyter Snake\n",
    "\n",
    "---\n",
    "\n",
    "In this project our goal is to beat the game of snake, applying multiple RL techniques in order to teach an agent how to play the game.\\\n",
    "The project is divided in 3 parts:\n",
    "1. Developement of the Environment\n",
    "2. Implementation of the Algorithms\n",
    "3. Learning and evaluating phase of the Algorithms\n",
    "\n",
    "This whole project is developed as final project for the \"Reinforcement Learning\" course (2024-2025).\n",
    "\n",
    "Authors : *Bredariol Francesco, Savorgnan Enrico, Tic Ruben*"
   ]
  },
  {
   "cell_type": "code",
   "execution_count": 1,
   "id": "27a3a695",
   "metadata": {},
   "outputs": [],
   "source": [
    "from algorithms import *\n",
    "from eligibility_traces import *\n",
    "from epsilon_scheduler import * \n",
    "from snake_environment import *\n",
    "from states_bracket import *\n",
    "from utils import *"
   ]
  },
  {
   "cell_type": "markdown",
   "id": "ea32296b",
   "metadata": {},
   "source": [
    "## PART 1\n",
    "---\n",
    "*Environment*"
   ]
  },
  {
   "cell_type": "markdown",
   "id": "240e4414",
   "metadata": {},
   "source": [
    "### **The Game**\n",
    "\n",
    "For who who doesn't know Snake is a not just a game but a genre of action video games.\\\n",
    "It was born in 1976 competitive arcade video game Blockade, where the goal was to survive longer than others players while collecting the most possible food.\\\n",
    "In this game you control the head of a snake on grid world and you aim to eat some food in order to become bigger. The big difficulty here is that if you hit your tail (this is the only common rule for all snake variant) you die.\\\n",
    "There are multiple version of the game and some of them are really weird (where teleportation can occour or some food can actually make you die).\\\n",
    "We took in account the most basic version, where:\n",
    "\n",
    "1. The world is a discrete grid world of size $n\\times m$\n",
    "2. There is always only one food (apple) on the grid world, and when you it changes position\n",
    "3. There are no periodic boundary conditions, meaning that if you hit a wall you die\n",
    "\n",
    "The rest is just as described as in the introduction to the game.\\\n",
    "Little side note is that this version is inspired by the \"Snake Byte\" published by Sirius Software in 1982.\n",
    "\n",
    "### **The Implementation**\n",
    "\n",
    "Thanks to Gymnasium and PyGame the implementation of this simple version of the game is pretty straightforward.\\\n",
    "Developed completely in Python in the file \"snake_environment.py\", this implementation follows the Gym protocol, defining:\n",
    "\n",
    "1. Step\n",
    "2. Reset\n",
    "3. Render, which use PyGame\n",
    "4. Close\n",
    "\n",
    "All others functions are private and only used inside the class, for the exception of \"get_possible_action\" which is useful for our purpose.\n",
    "\n",
    "One important thing is that we actually defined a maximum number of step inside the environment to prevent infinte loop driven by bad policies while training. This is a parameter for the __init__ with default value 1000."
   ]
  },
  {
   "cell_type": "code",
   "execution_count": 2,
   "id": "2ecb7068",
   "metadata": {},
   "outputs": [],
   "source": [
    "import random\n",
    "env = SnakeEnv(render_mode=\"human\")\n",
    "\n",
    "done, keep = False, True\n",
    "\n",
    "state, _ = env.reset()\n",
    "action = 0\n",
    "\n",
    "while not done and keep:\n",
    "    action = random.choice(env.get_possible_actions(action))\n",
    "    state, reward, done, trunc, inf = env.step(action)\n",
    "    keep = env.render()\n",
    "\n",
    "env.close()"
   ]
  },
  {
   "cell_type": "markdown",
   "id": "413723b9",
   "metadata": {},
   "source": [
    "### **The Dimensionality Problem**\n",
    "\n",
    "Once the environment is defined, one can think about how big the space of all possible configuration is.\\\n",
    "Well, doing some (pretty bad but although valid) approximation, considering a state as the matrix representation of the grid with 0 (empty cell), 1 (apple), 2(head) and 3 (tail), the dimension of all possible configuration ends up being something like this:\n",
    "$$\n",
    "    |S| = (n\\times m)(n\\times m)2^{(n\\times m)}\n",
    "$$\n",
    "This should describe all the possible positions of the apple, all the possible position of the head and all possible configuration on the grid of the tails (now this is the big approximation, since the tail configuration is not independent from the head position). Anyway, even if this is an approximation one can simply add the \"blocks\" on the grid world (static cells that kill, if touched, the snake) and the dimension should exactly being that big.\n",
    "\n",
    "Now this is not a simple thing to deal with while learning. Solution? Bidding (or bracketing, how we actually call it). Now on this soon."
   ]
  },
  {
   "cell_type": "markdown",
   "id": "858975fc",
   "metadata": {},
   "source": [
    "## PART 2\n",
    "---\n",
    "*Algorithms*"
   ]
  },
  {
   "cell_type": "markdown",
   "id": "faea080f",
   "metadata": {},
   "source": [
    "## **BIDDING (or Bracketing)**\n",
    "\n",
    "As shown before the Snake game has a huge state dimension.\\\n",
    "Since a look up table of that dimension has no logic to exist (I don't even think our computers can store something like that) and since it is pretty impossible just to see one example for each pair state-action in an entire life time, something had to come in mind.\\\n",
    "Thanks to a lesson we learnt about bidding (that we called bracketing for the entire project, shame on Francesco) and decided to try it out.\\\n",
    "Bidding essentially is just a supervised technique (it is the human that codifies how it works) that agglomerates similar states together, in order to reduce the dimensionality of the problem.\\\n",
    "A very stupid example could be the following: each state just randomly be labelled as 0 or 1. And the agents now will not see the entire state representation, but only the label you gave it. Now this example is stupid because, using this random strategy, you end up with no knowledge at all. BUT, look at what happened at your state dimension: it fell down from whatever it was to 2! Pretty neat, uh?\n",
    "\n",
    "We discussed together end decided to try a lot of different bidding techniques, and we end up discovering the big tradeoff in this field: **information against dimension**.\\\n",
    "Minimal state bidding are easy to implement, but if they are too small it is not ensured that they will bring enough information to actually learn to the agent. On the other hand, if you give too many information to the agent, you will end up again with a too big state dimension to deal with.\n",
    "\n",
    "Another important aspect of bidding is that you actually \"completely\" lose the transition function below your system. It is true that you can develop a new transition function on a new space, the \"bidding space\", but it is not easy and it is not ensured to be relevant.\n",
    "\n",
    "Now we will quickly see all the biddings we implemented. We defined in the states_bracket.py a super class (StateBracket) which implement the protocol for all the bidding techniques."
   ]
  },
  {
   "cell_type": "markdown",
   "id": "56a573a8",
   "metadata": {},
   "source": [
    "### **FOOD INFORMATION ONLY**\n",
    "\n",
    "Our first approach was to give only information about the position of the apple wrt the head of the snake. Two variants of this idea came up:\n",
    "\n",
    "1. Food Relative Position \n",
    "2. Food Direction\n",
    "\n",
    "Both of the techniques are pretty straightforward to implement, and their computation is very fast as well. However, the snake loses information about its tail, the walls and the boundaries of the cell.\n",
    "\n",
    "\n",
    "##### **Food Relative Position**\n",
    "\n",
    "Once you get the apple position $(a_y, a_x)$ and the head position $(h_y, h_x)$ you just return as state the tuple $(a_y - h_y, a_x - h_x)$. This approach reduces the states' dimension up to $2m \\times 2n$\n",
    "\n",
    "##### **Food Direction**\n",
    "\n",
    "Once you get the apple position $(a_y, a_x)$ and the head position $(h_y, h_x)$ you just return as state the tuple $(a_y < h_y, a_y > h_x, a_x < h_x, a_x > h_x)$.\\\n",
    "Now, while the first one is straightforward, this a little more subtle. This tells you whether your head is above, below, to the left, or to the right of the food. \\\n",
    "This is a very minimal information: the states are condensed into just $8$ bins.\n",
    "\n"
   ]
  },
  {
   "cell_type": "code",
   "execution_count": 3,
   "id": "22adea2e",
   "metadata": {},
   "outputs": [
    {
     "name": "stdout",
     "output_type": "stream",
     "text": [
      "(0, -1)\n",
      "(0, 0, 1, 0)\n"
     ]
    }
   ],
   "source": [
    "state = np.array([\n",
    "    [0, 0, 0], \n",
    "    [0, 0, 1], \n",
    "    [0, 0, 2]\n",
    "    ])\n",
    "frp = FoodRelativePositionBracket()\n",
    "fd = FoodDirectionBracket()\n",
    "print(frp.bracket(state))\n",
    "print(fd.bracket(state))"
   ]
  },
  {
   "cell_type": "markdown",
   "id": "d22a32a1",
   "metadata": {},
   "source": [
    "### **FOOD AND NEIGHBORHOOD INFORMATION**\n",
    "\n",
    "These bidding techniques combines the things we have just seen plus information relative to the neighborhood of the head.\\\n",
    "Neighborhood could be both of Von Neumann type or Moore type. The radius is a parameter for this bidding. Notice that the greater the radius, the greater the total state dimension. The information within the neighborhood are expressed in the form of 0 and 1. 0 if a cell is free and 1 if a cell is occupied by the tail.\n",
    "\n",
    "For further details on the implementation we suggest to directly read the code, which is full commented."
   ]
  },
  {
   "cell_type": "code",
   "execution_count": 4,
   "id": "d3d316e5",
   "metadata": {},
   "outputs": [
    {
     "name": "stdout",
     "output_type": "stream",
     "text": [
      "(0, -1, 0, 0, 0, 1, 1)\n",
      "(0, 0, 1, 0, 0, 0, 0, 1, 1)\n"
     ]
    }
   ],
   "source": [
    "state = np.array([\n",
    "    [0, 0, 0], \n",
    "    [0, 0, 1], \n",
    "    [0, 0, 2]\n",
    "    ])\n",
    "npfrp = NeighPlusFoodRelativePositionBracket(radius=1)\n",
    "npfd = NeighPlusFoodDirectionBracket(radius=1)\n",
    "print(npfrp.bracket(state))\n",
    "print(npfd.bracket(state))"
   ]
  },
  {
   "cell_type": "markdown",
   "id": "23404406",
   "metadata": {},
   "source": [
    "### **ONLY NEIGHBORHOOD INFORMATION**\n",
    "\n",
    "An interesting experiment was the definition of the bidding containing only information relative to the neighborhood of the head (adding the 2 value for the apple in this case).\\\n",
    "The idea was that, using this type of bidding, the agent could have learnt to search being really careful, but probably with no knowledge on its own position it is impossible for it to learn a valid strategy."
   ]
  },
  {
   "cell_type": "code",
   "execution_count": 5,
   "id": "21e4114d",
   "metadata": {},
   "outputs": [
    {
     "name": "stdout",
     "output_type": "stream",
     "text": [
      "(0, 0, 0, 1, 1)\n"
     ]
    }
   ],
   "source": [
    "state = np.array([\n",
    "    [0, 0, 0], \n",
    "    [0, 0, 1], \n",
    "    [0, 0, 2]\n",
    "    ])\n",
    "n = NeighborhoodBracket()\n",
    "print(n.bracket(state))"
   ]
  },
  {
   "cell_type": "markdown",
   "id": "5c1c5d7e",
   "metadata": {},
   "source": [
    "### **FOOD AND NEIGHBORHOOD AND TAIL INFORMATION**\n",
    "\n",
    "The last type of bidding explored combines all the informations described until now plus a little information about the tail.\\\n",
    "The relative information about the tail is its length, and should help the agent learn to be a little more careful when the tail gets longer."
   ]
  },
  {
   "cell_type": "code",
   "execution_count": 6,
   "id": "4515a9e7",
   "metadata": {},
   "outputs": [
    {
     "name": "stdout",
     "output_type": "stream",
     "text": [
      "(0, 0, -1, 0, 0, 0, 1, 1)\n",
      "(0, 0, 0, 1, 0, 0, 0, 0, 1, 1)\n"
     ]
    }
   ],
   "source": [
    "state = np.array([\n",
    "    [0, 0, 0], \n",
    "    [0, 0, 1], \n",
    "    [0, 0, 2]\n",
    "    ])\n",
    "tpnpfrp = NeighPlusFoodRelativePositionPlusTailBracket()\n",
    "tpnpfd = NeighPlusFoodDirectionPlusTailBracket()\n",
    "print(tpnpfrp.bracket(state))\n",
    "print(tpnpfd.bracket(state))"
   ]
  },
  {
   "cell_type": "markdown",
   "id": "04a29f6d",
   "metadata": {},
   "source": [
    "## ALGORITHMS\n",
    "\n",
    "### **Why not MDP**\n",
    "\n",
    "How we have seen in the latest section, the only way to obtain a dealable state dimension is using the binning. \\\n",
    "The problem is that, using binning, we lose the transition function below our MDP. Indeed, being in the same state, taking the same action, ending into the same state, could possibly lead to different rewards.\n",
    "To give an example, consider the two situations below, where we marked with a $O$ the head of the snake, with $0$ its body and with $X$ the food (consider the snake without tail):\n",
    "\n",
    "\n",
    "\\begin{array}{|c|c|c|}\n",
    "\\hline\n",
    " & 0 & 0 \\\\\n",
    "\\hline\n",
    " & O & 0 \\\\\n",
    "\\hline\n",
    "X &  &  \\\\\n",
    "\\hline\n",
    "\\end{array}\n",
    "\n",
    "\\begin{array}{|c|c|c|}\n",
    "\\hline\n",
    " &  &  \\\\\n",
    "\\hline\n",
    " & O & 0 \\\\\n",
    "\\hline\n",
    "X &  & 0 \\\\\n",
    "\\hline\n",
    "\\end{array}\n",
    "\n",
    "\n",
    "Such situations are bidded into the same condensed-state $(-1, -1)$. However, the action \"UP\" will lead in the first example to a negative reward because of the hit of the snake's tail, while  in the second case, to a zero reward.\n",
    "\n",
    "This erases the capability to retrieve good results solving the problem as an MDP via policy iteration.\n",
    "\n",
    "TO ARGUMENT A BIT MORE\n",
    "\n",
    "\n",
    "### **Our Choices**\n",
    "\n",
    "In the end we decided to develop 5 different **Model-free algorithms** (with also some variants of them) in order to take familiarity with the whole RL framework. These are the algorithms we implemented:\n",
    "\n",
    "1. Montecarlo \n",
    "2. SARSA\n",
    "3. QLearning\n",
    "4. DDQL\n",
    "5. Policy Gradient\n",
    "\n",
    "We firstly implemented a super class that defines a protocol for all the algorithms and provides useful function such as \"get_action_epsilon_greedy\" and so on.\\\n",
    "Useful method of the class are the save and upload methods, which can let to store the results obtained as a pickle dictionary in order to retrieve it later.\\\n",
    "In addiction the utils.py contains a lot of useful function used to deal with the default_dict, a structure we used to store the QValues look up table (for the algorithms that require it). Since we used a lot of bidding we used default dict to possibly deal with no-fixed state dimension.\n",
    "\n",
    "Before diving in our actual implementation, let's briefly remind some key concepts that will be used.\n",
    "\n",
    "*Credit for the key concepts to [this tutorial](https://medium.com/@hsinhungw/intro-to-reinforcement-learning-monte-carlo-to-policy-gradient-1c7ede4eed6e)*"
   ]
  },
  {
   "cell_type": "markdown",
   "id": "45bcd296",
   "metadata": {},
   "source": [
    "### **Policy-based vs Value-based**\n",
    "\n",
    "Most of our algorithms are value-based but policy gradient is in fact policy-based. Let's define the difference between these two classes.\n",
    "\n",
    "1. **Policy-based methods**: The agent learns the policy directly.\n",
    "2. **Value-based methods**: The agent learns a value function that gives the expected return of being in a given state or performing a given action in a given state. The policy can then be derived from the learned value function."
   ]
  },
  {
   "cell_type": "markdown",
   "id": "102cbf66",
   "metadata": {},
   "source": [
    "### **Off-policy / On-policy**\n",
    "\n",
    "In RL, the agent generates experience by interacting with the environment under a certain policy and then learns the policy from those experiences. Given this in mind, algorithms can use different approaches to the policy. Two main classes exist, let's break them down.\n",
    "\n",
    "\n",
    "1. **On-policy methods**: The agent attempts to learn the policy that is also used to generate the experience.\n",
    "2. **Off-policy methods**: The agent learns a policy that is different from the one used to generate experiences."
   ]
  },
  {
   "cell_type": "markdown",
   "id": "c5da42c7",
   "metadata": {},
   "source": [
    "### **Q-Value Learning**\n",
    "\n",
    "Our goal is to find the optimal policy given only the experience of an environment. Again, the experience consists in the trajectories we perform as we explore the environment\n",
    "\n",
    "$\\tau_i = (S^i_0, A^i_0, R^i_1, S^i_1, A^i_1, R^i_1, \\dots S^i_{T^i})$\n",
    "\n",
    "\n",
    "To do this, it will be more convenient to consider, instead of the _state_-function $V_{\\pi} (s) $, the _state/action_-function $Q_{\\pi}(s,a)$. It is defined as:\n",
    "\n",
    "$$\n",
    "Q_{\\pi}(s,a) = \\mathbb{E}_\\pi\\bigg[ \\sum_{t=0}^\\infty \\gamma^t \\, R_{t+1} \\, \\, \\Big| \\, \\, S_0 = s, A_0 = a \\bigg] \\ .\n",
    "$$\n",
    "\n",
    "**Definition 1** _\"The expectation discounted cumulative sum of all future rewards when starting from state $s$, acting with action $a$ and then always following the policy $\\pi$\"_\n",
    "\n",
    "or equivalently as:\n",
    "\n",
    "$$\n",
    "Q_\\pi(s,a) = \\mathbb{E}_{\\pi}\\bigg[ R_1 + \\gamma V_\\pi(S_1) \\,\\, \\Big| \\,\\, S_0 = s, A_0 = a\\bigg] \\ .\n",
    "$$\n",
    "\n",
    "**Definition 2** _\"The expectation value of the immediate reward plus the discounted $V$-value of the following state $S_1$, when starting from state $s$, acting with action $a$ and then always following the policy $\\pi$.\"_\n",
    "\n",
    "or again as:\n",
    "\n",
    "$$\n",
    "Q_\\pi(s,a) = \\mathbb{E}_{\\pi}\\bigg[ R_1 + \\gamma  \\, \\sum_{a'} \\, Q_\\pi(S_1, a') \\, \\pi(a' | S_1) \\,\\, \\Big| \\,\\, S_0 = s, A_0 = a\\bigg] \\ .\n",
    "$$\n",
    "**Definition 3** _\"The expectation value of the immediate reward plus the discounted $Q$-value of the following state $S_1$ and all possible actions $a'$ weighted by the probability of taking that action ($\\pi(a' | S_1)$), when starting from state $s$, acting with action $a$ and then always following the policy $\\pi$.\"_\n",
    "\n",
    "*Credit to the 4th tutorial for the definition*"
   ]
  },
  {
   "cell_type": "markdown",
   "id": "a7ebd2f1",
   "metadata": {},
   "source": [
    "### **Montecarlo**\n",
    "\n",
    "Monte Carlo methods are ways of estimating value functions through experiences (sample sequence of states, actions, and rewards). Recall that the value of a state is the expected return (expected cumulative future discounted reward) starting from that state. One way to estimate the expected return is simply to average the returns observed after visits to that state. As more returns are observed, by the law of large numbers, the average should converge to the expected return. This idea underlies all Monte Carlo methods.\n",
    "\n",
    "Our first algorithm developed was the **on-policy Montecarlo**. It works as follows:\n",
    "\n",
    "1. On-policy MC uses an **ε-soft policy**. A soft policy refers to any policy that has a small, but finite, probability of selecting any possible action, ensuring exploration of alternative actions.\n",
    "2. After each episode, the **observed returns** are used to learn the q-value function, and then the policy is improved based on the learned value function for all the states visited in the episode.\n",
    "\n",
    "This means that we use the first definition. This definition has no bias but an high variance.\n",
    "\n",
    "![onpolicymc](/images/on%20policy%20mc.png)"
   ]
  },
  {
   "cell_type": "code",
   "execution_count": 12,
   "id": "669a7b93",
   "metadata": {},
   "outputs": [
    {
     "name": "stdout",
     "output_type": "stream",
     "text": [
      "Episode 399/400\n",
      "\n",
      "\n",
      "Learning finished\n",
      "\n",
      "\n",
      "Episode 0/400 : Performance -10.0\n",
      "Episode 100/400 : Performance -11.5\n",
      "Episode 200/400 : Performance -2.0\n",
      "Episode 300/400 : Performance -4.5\n"
     ]
    },
    {
     "data": {
      "text/plain": [
       "27.0"
      ]
     },
     "execution_count": 12,
     "metadata": {},
     "output_type": "execute_result"
    }
   ],
   "source": [
    "env = SnakeEnv(render_mode=\"non-human\", max_step=100)\n",
    "mc = Montecarlo(action_space=4, gamma=0.90, lr_v=0.01)\n",
    "eps = ConstantEpsilonDecay(0.3)\n",
    "bracketer = NeighPlusFoodDirectionBracket()\n",
    "mc.learning(env = env, epsilon_schedule= eps, n_episodes=400, bracketer=bracketer)\n",
    "env = SnakeEnv(render_mode=\"human\", max_step=2000)\n",
    "mc.play(env=env, bracketer=bracketer)"
   ]
  },
  {
   "cell_type": "markdown",
   "id": "4cb80610",
   "metadata": {},
   "source": [
    "### **SARSA** \n",
    "\n",
    "SARSA is a fascinating on-policy method which use state action and reward (State Action Reward State Action) in order to achieve its goals. There are many variants of SARSA, and all of them are different in terms of how they update the Q-Value table. "
   ]
  }
 ],
 "metadata": {
  "kernelspec": {
   "display_name": "Python 3",
   "language": "python",
   "name": "python3"
  },
  "language_info": {
   "codemirror_mode": {
    "name": "ipython",
    "version": 3
   },
   "file_extension": ".py",
   "mimetype": "text/x-python",
   "name": "python",
   "nbconvert_exporter": "python",
   "pygments_lexer": "ipython3",
   "version": "3.11.9"
  }
 },
 "nbformat": 4,
 "nbformat_minor": 5
}
