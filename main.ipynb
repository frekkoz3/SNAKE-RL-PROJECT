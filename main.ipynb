{
 "cells": [
  {
   "metadata": {},
   "cell_type": "markdown",
   "source": "# Jupyter Snake",
   "id": "58e791d87b50960b"
  },
  {
   "cell_type": "code",
   "id": "e66ddfc6",
   "metadata": {
    "ExecuteTime": {
     "end_time": "2025-05-31T15:18:55.102570Z",
     "start_time": "2025-05-31T15:18:52.538743Z"
    }
   },
   "source": [
    "import os\n",
    "\n",
    "import torch.xpu\n",
    "\n",
    "from algorithms import *\n",
    "from snake_environment import *\n",
    "from states_bracket import *\n",
    "from epsilon_scheduler import *\n",
    "from DeepDQL import *"
   ],
   "outputs": [],
   "execution_count": 1
  },
  {
   "cell_type": "code",
   "id": "09da74c4",
   "metadata": {
    "ExecuteTime": {
     "end_time": "2025-05-31T14:28:25.296135Z",
     "start_time": "2025-05-31T14:28:25.289530Z"
    }
   },
   "source": [
    "# Bracketer\n",
    "bracketer = VonNeumann1NeighPlusFoodDirectionBracket()\n",
    "# General Settings \n",
    "gamma = 0.99\n",
    "lr_v = 0.15\n",
    "n_episodes = 25000\n",
    "epsilon_schedule = LinearEpsilonDecay(eps = 1, coefficient=0.999, minimum=0.15)"
   ],
   "outputs": [],
   "execution_count": 2
  },
  {
   "cell_type": "markdown",
   "id": "2710c15a",
   "metadata": {},
   "source": "## QLearning"
  },
  {
   "cell_type": "code",
   "id": "cacd472b",
   "metadata": {},
   "source": [
    "# Environment\n",
    "env = SnakeEnv(render_mode=\"nonhuman\", max_step=1000)\n",
    "Q_p = QLearning(env.action_space.n, gamma=gamma, lr_v=lr_v)\n",
    "Q_p.learning(env, epsilon_schedule, n_episodes, bracketer)"
   ],
   "outputs": [],
   "execution_count": null
  },
  {
   "cell_type": "code",
   "id": "752bc25e",
   "metadata": {},
   "source": [
    "path = \"./models/\""
   ],
   "outputs": [],
   "execution_count": null
  },
  {
   "cell_type": "code",
   "id": "15694a6a",
   "metadata": {},
   "source": [
    "name = f\"QLearning gamma {gamma} lr {lr_v} epsilon linear from 1 to 015 with 0999 as coefficient vn1 plus fd 1000 max iterations\"\n",
    "Q_p.save(f\"{path}{name}\")"
   ],
   "outputs": [],
   "execution_count": null
  },
  {
   "cell_type": "code",
   "id": "b2c332b4",
   "metadata": {},
   "source": [
    "Q_p.upload(f\"{path}{name}\")"
   ],
   "outputs": [],
   "execution_count": null
  },
  {
   "cell_type": "code",
   "id": "d76db54d",
   "metadata": {},
   "source": [
    "env = SnakeEnv(render_mode=\"human\", max_step=1000)\n",
    "Q_p.play(env, bracketer)"
   ],
   "outputs": [],
   "execution_count": null
  },
  {
   "cell_type": "code",
   "id": "25b65636",
   "metadata": {},
   "source": [
    "Q_p.print_q_values(bracketer)"
   ],
   "outputs": [],
   "execution_count": null
  },
  {
   "cell_type": "markdown",
   "id": "3f45dbe8",
   "metadata": {},
   "source": "## SARSA"
  },
  {
   "cell_type": "code",
   "id": "2e6cf90f",
   "metadata": {},
   "source": [
    "# Environment\n",
    "epsilon_schedule = LinearEpsilonDecay(eps = 1, coefficient=0.9999, minimum=0.30)\n",
    "env = SnakeEnv(render_mode=\"nonhuman\", max_step=1000)\n",
    "SARSA_p = SARSA(env.action_space.n, gamma=gamma, lr_v=lr_v)\n",
    "bracketer = FoodDirectionBracket()\n",
    "SARSA_p.learning(env, epsilon_schedule, n_episodes = 50000, bracketer = bracketer)"
   ],
   "outputs": [],
   "execution_count": null
  },
  {
   "cell_type": "code",
   "id": "7d84dfa4",
   "metadata": {},
   "source": [
    "path = \"./models/\"\n",
    "name = f\"SARSA 50000 episodes gamma {gamma} lr {lr_v} epsilon linear from 1 to 030 with 09999 as coefficient vn1 plus fd 1000 max iterations\"\n",
    "SARSA_p.save(f\"{path}{name}\")"
   ],
   "outputs": [],
   "execution_count": null
  },
  {
   "cell_type": "code",
   "id": "f1cd804f",
   "metadata": {},
   "source": [
    "SARSA_p.upload(f\"{path}{name}\")"
   ],
   "outputs": [],
   "execution_count": null
  },
  {
   "cell_type": "code",
   "id": "049625d4",
   "metadata": {},
   "source": [
    "env = SnakeEnv(render_mode=\"human\", max_step=1000)\n",
    "SARSA_p.play(env, bracketer)"
   ],
   "outputs": [],
   "execution_count": null
  },
  {
   "cell_type": "code",
   "id": "6b78bd24",
   "metadata": {},
   "source": [
    "SARSA_p.print_q_values(bracketer)"
   ],
   "outputs": [],
   "execution_count": null
  },
  {
   "cell_type": "markdown",
   "id": "976983c21574e86e",
   "metadata": {},
   "source": "## DDQN\n"
  },
  {
   "cell_type": "code",
   "id": "3edd2cfc86fab5f6",
   "metadata": {
    "ExecuteTime": {
     "end_time": "2025-05-31T15:19:03.580116Z",
     "start_time": "2025-05-31T15:19:01.886522Z"
    }
   },
   "source": [
    "BATCH_SIZE = 128\n",
    "MEMORY_SIZE = 10000\n",
    "TARGET_UPDATE_FREQ = 200\n",
    "\n",
    "# Bracketer\n",
    "bracketer = FoodRelativePositionBracket()\n",
    "# General Settings\n",
    "gamma = 0.95\n",
    "lr_v = 0.001\n",
    "epsilon = 0.1\n",
    "n_episodes = 5001\n",
    "epsilon_schedule = LinearEpsilonDecay(eps = 1, coefficient=0.999, minimum=0.05)\n",
    "device = \"cuda\" if torch.cuda.is_available() else \"cpu\"\n",
    "# device = 'xpu' if torch.xpu.is_available() else device\n",
    "print(f\"Using device: {device}\")\n",
    "\n",
    "# Environment\n",
    "env = SnakeEnv(render_mode=\"nonhuman\")\n",
    "state_dim = bracketer.get_state_dim()\n",
    "\n",
    "ddqn = DeepDoubleQLearning(\n",
    "    env.action_space.n,\n",
    "    state_dim=state_dim,\n",
    "    gamma=gamma,\n",
    "    lr_v=lr_v,\n",
    "    batch_size=BATCH_SIZE,\n",
    "    memory_size=MEMORY_SIZE,\n",
    "    target_update_freq=TARGET_UPDATE_FREQ,\n",
    "    device=device\n",
    ")"
   ],
   "outputs": [
    {
     "name": "stdout",
     "output_type": "stream",
     "text": [
      "Using device: cpu\n"
     ]
    }
   ],
   "execution_count": 2
  },
  {
   "cell_type": "code",
   "id": "3019b70901ba8f18",
   "metadata": {
    "ExecuteTime": {
     "end_time": "2025-05-31T15:30:41.144349Z",
     "start_time": "2025-05-31T15:19:08.449182Z"
    }
   },
   "source": [
    "env = SnakeEnv(render_mode=\"nonhuman\")\n",
    "ddqn.learning(env, epsilon_schedule, n_episodes, bracketer)"
   ],
   "outputs": [
    {
     "name": "stdout",
     "output_type": "stream",
     "text": [
      "iteration 0 : epsilon 0.999\n",
      "iteration 500 : epsilon 0.6057725659163237\n",
      "iteration 1000 : epsilon 0.36732772934619257\n",
      "iteration 1500 : epsilon 0.22273980093919937\n",
      "iteration 2000 : epsilon 0.13506472547210188\n",
      "iteration 2500 : epsilon 0.08190040571973876\n",
      "iteration 3000 : epsilon 0.05\n",
      "iteration 3500 : epsilon 0.05\n",
      "iteration 4000 : epsilon 0.05\n",
      "iteration 4500 : epsilon 0.05\n",
      "iteration 5000 : epsilon 0.05\n",
      "\n",
      "\n",
      "Learning finished\n",
      "\n",
      "\n",
      "Episode 0 : Performance -11.5\n",
      "Episode 100 : Performance -54.5\n",
      "Episode 200 : Performance -40.5\n",
      "Episode 300 : Performance -29.0\n",
      "Episode 400 : Performance -21.0\n",
      "Episode 500 : Performance -18.5\n",
      "Episode 600 : Performance -29.0\n",
      "Episode 700 : Performance -14.5\n",
      "Episode 800 : Performance 2.5\n",
      "Episode 900 : Performance -18.5\n",
      "Episode 1000 : Performance -10.5\n",
      "Episode 1100 : Performance -1.0\n",
      "Episode 1200 : Performance -21.0\n",
      "Episode 1300 : Performance 3.0\n",
      "Episode 1400 : Performance -12.5\n",
      "Episode 1500 : Performance 23.5\n",
      "Episode 1600 : Performance 13.0\n",
      "Episode 1700 : Performance 4.0\n",
      "Episode 1800 : Performance -10.0\n",
      "Episode 1900 : Performance -6.5\n",
      "Episode 2000 : Performance 2.5\n",
      "Episode 2100 : Performance 7.0\n",
      "Episode 2200 : Performance -14.0\n",
      "Episode 2300 : Performance -8.0\n",
      "Episode 2400 : Performance -23.0\n",
      "Episode 2500 : Performance 3.5\n",
      "Episode 2600 : Performance 23.5\n",
      "Episode 2700 : Performance 2.0\n",
      "Episode 2800 : Performance 13.0\n",
      "Episode 2900 : Performance 17.0\n",
      "Episode 3000 : Performance 2.5\n",
      "Episode 3100 : Performance 13.0\n",
      "Episode 3200 : Performance 14.5\n",
      "Episode 3300 : Performance 19.0\n",
      "Episode 3400 : Performance 13.0\n",
      "Episode 3500 : Performance 0.5\n",
      "Episode 3600 : Performance 3.5\n",
      "Episode 3700 : Performance -3.0\n",
      "Episode 3800 : Performance -8.0\n",
      "Episode 3900 : Performance -12.0\n",
      "Episode 4000 : Performance -1.0\n",
      "Episode 4100 : Performance 13.0\n",
      "Episode 4200 : Performance 13.0\n",
      "Episode 4300 : Performance 13.5\n",
      "Episode 4400 : Performance -8.0\n",
      "Episode 4500 : Performance 13.0\n",
      "Episode 4600 : Performance 13.0\n",
      "Episode 4700 : Performance 23.5\n",
      "Episode 4800 : Performance 34.0\n",
      "Episode 4900 : Performance 4.0\n",
      "Episode 5000 : Performance 13.0\n"
     ]
    }
   ],
   "execution_count": 3
  },
  {
   "cell_type": "code",
   "id": "4a77dd8a245e9973",
   "metadata": {
    "ExecuteTime": {
     "end_time": "2025-05-31T15:30:56.969183Z",
     "start_time": "2025-05-31T15:30:56.949130Z"
    }
   },
   "source": [
    "current_path = os.getcwd()\n",
    "model_path = os.path.join(current_path, \"models/\")\n",
    "print(f\"Model path: {model_path}\")"
   ],
   "outputs": [
    {
     "name": "stdout",
     "output_type": "stream",
     "text": [
      "Model path: D:\\university\\reinforcement\\project_2\\models/\n"
     ]
    }
   ],
   "execution_count": 4
  },
  {
   "cell_type": "code",
   "id": "276094db05c61d64",
   "metadata": {
    "ExecuteTime": {
     "end_time": "2025-05-31T15:30:59.759737Z",
     "start_time": "2025-05-31T15:30:59.732793Z"
    }
   },
   "source": "ddqn.save(path=f\"{model_path}DDQN gamma {gamma} lr {lr_v} epsilon {epsilon} episodes {n_episodes} bracketer {bracketer.__class__.__name__}\")",
   "outputs": [],
   "execution_count": 5
  },
  {
   "cell_type": "code",
   "id": "74eeb13a6dc86102",
   "metadata": {
    "ExecuteTime": {
     "end_time": "2025-05-31T15:31:02.712955Z",
     "start_time": "2025-05-31T15:31:02.700647Z"
    }
   },
   "source": "ddqn.upload(f\"{model_path}DDQN gamma {gamma} lr {lr_v} epsilon {epsilon} episodes {n_episodes} bracketer {bracketer.__class__.__name__}\")",
   "outputs": [],
   "execution_count": 6
  },
  {
   "cell_type": "code",
   "id": "d349154f4083194e",
   "metadata": {
    "ExecuteTime": {
     "end_time": "2025-05-31T15:35:32.221708Z",
     "start_time": "2025-05-31T15:35:03.503434Z"
    }
   },
   "source": [
    "env = SnakeEnv(render_mode='human', max_step=1000)\n",
    "ddqn.play(env, bracketer)"
   ],
   "outputs": [],
   "execution_count": 21
  },
  {
   "metadata": {},
   "cell_type": "markdown",
   "source": "## DDQN - Ruben Edition",
   "id": "b8dee35f3ef96715"
  },
  {
   "metadata": {},
   "cell_type": "code",
   "outputs": [],
   "execution_count": null,
   "source": [
    "env = SnakeEnv(render_mode=\"human\")\n",
    "\n",
    "deepDQL = DeepDQL(env, NN)\n",
    "\n",
    "returns = deepDQL.learnQ(n_traj = 5000, n_traj_for_Qtarget_update=200, batch_size=128)\n",
    "deepDQL.evaluation_averaged()\n",
    "plt.plot(returns)\n",
    "plt.show()"
   ],
   "id": "a73dced3093c2cd8"
  },
  {
   "cell_type": "markdown",
   "id": "47e533fece0d0206",
   "metadata": {},
   "source": "## Monte Carlo"
  },
  {
   "cell_type": "code",
   "id": "bf56d6412785bd98",
   "metadata": {},
   "source": [
    "env = SnakeEnv(render_mode=\"nonhuman\")\n",
    "n_episodes = 5000\n",
    "MC = Montecarlo(env.action_space.n, gamma=gamma, lr_v=lr_v)"
   ],
   "outputs": [],
   "execution_count": null
  },
  {
   "cell_type": "code",
   "id": "96d0b0134fcda960",
   "metadata": {},
   "source": [
    "MC.learning(env, epsilon, n_episodes, bracketer)"
   ],
   "outputs": [],
   "execution_count": null
  },
  {
   "cell_type": "code",
   "id": "22decd2ce0d07523",
   "metadata": {},
   "source": [
    "path = \"./models/\"\n",
    "MC.save(f\"{path}MC gamma {gamma} lr {lr_v} epsilon {epsilon} episodes {n_episodes}\")"
   ],
   "outputs": [],
   "execution_count": null
  },
  {
   "cell_type": "code",
   "id": "8219ca85cdcdcfb",
   "metadata": {},
   "source": [
    "env = SnakeEnv(render_mode=\"human\")\n",
    "MC = Montecarlo(env.action_space.n, gamma=gamma, lr_v=lr_v)\n",
    "MC.upload(f\"{path}MC gamma {gamma} lr {lr_v} epsilon {epsilon} episodes {n_episodes}\")"
   ],
   "outputs": [],
   "execution_count": null
  },
  {
   "cell_type": "code",
   "id": "6c8883e75e237442",
   "metadata": {},
   "source": [
    "MC.play(env, bracketer)"
   ],
   "outputs": [],
   "execution_count": null
  }
 ],
 "metadata": {
  "kernelspec": {
   "display_name": "Python 3",
   "language": "python",
   "name": "python3"
  },
  "language_info": {
   "codemirror_mode": {
    "name": "ipython",
    "version": 3
   },
   "file_extension": ".py",
   "mimetype": "text/x-python",
   "name": "python",
   "nbconvert_exporter": "python",
   "pygments_lexer": "ipython3",
   "version": "3.12.0"
  }
 },
 "nbformat": 4,
 "nbformat_minor": 5
}
