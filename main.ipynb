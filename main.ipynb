{
 "cells": [
  {
   "metadata": {},
   "cell_type": "markdown",
   "source": "# Jupyter Snake",
   "id": "369f5adb18f70e28"
  },
  {
   "metadata": {},
   "cell_type": "markdown",
   "source": "## General Imports",
   "id": "e9315ce97005e6"
  },
  {
   "metadata": {
    "ExecuteTime": {
     "end_time": "2025-06-17T13:46:43.149066Z",
     "start_time": "2025-06-17T13:46:22.060609Z"
    }
   },
   "cell_type": "code",
   "source": [
    "import os\n",
    "\n",
    "from algorithms import *\n",
    "from snake_environment import *\n",
    "from states_bracket import *\n",
    "from epsilon_scheduler import *\n",
    "from utils import *"
   ],
   "id": "aa6fafd8e504be95",
   "outputs": [],
   "execution_count": 1
  },
  {
   "metadata": {
    "ExecuteTime": {
     "end_time": "2025-06-17T13:46:43.162001Z",
     "start_time": "2025-06-17T13:46:43.157080Z"
    }
   },
   "cell_type": "code",
   "source": [
    "current_path = os.getcwd()\n",
    "models_path = current_path + \"/models/\""
   ],
   "id": "4a4f59d3759aceff",
   "outputs": [],
   "execution_count": 2
  },
  {
   "metadata": {
    "ExecuteTime": {
     "end_time": "2025-06-16T19:20:33.782634Z",
     "start_time": "2025-06-16T19:20:33.775397Z"
    }
   },
   "cell_type": "code",
   "source": [
    "# Bracketer\n",
    "bracketer = NeighPlusFoodDirectionBracket(neigh=\"V\", radius=1)\n",
    "# General Settings\n",
    "gamma = 0.99\n",
    "lr_v = 0.15\n",
    "n_episodes = 25000\n",
    "epsilon_schedule = LinearEpsilonDecay(eps=1, coefficient=0.999, minimum=0.15)"
   ],
   "id": "ee0e16161157ba00",
   "outputs": [],
   "execution_count": 3
  },
  {
   "metadata": {},
   "cell_type": "markdown",
   "source": "## QLearning",
   "id": "11503fa3833cf455"
  },
  {
   "metadata": {},
   "cell_type": "code",
   "source": [
    "# Environment\n",
    "env = SnakeEnv(render_mode=\"nonhuman\", max_step=1000)\n",
    "Q_p = QLearning(env.action_space.n, gamma=gamma, lr_v=lr_v)\n",
    "Q_p.learning(env, epsilon_schedule, n_episodes, bracketer)"
   ],
   "id": "848be81f2c26f158",
   "execution_count": 4,
   "outputs": [
    {
     "name": "stdout",
     "output_type": "stream",
     "text": [
      "Episode 9600/25000 : epsilon 0.15 : Average performance -4.04\n",
      "\n",
      "\n",
      "Learning finished\n",
      "\n",
      "\n",
      "Episode 100 : Average performance -21.58\n",
      "Episode 200 : Average performance -21.97\n",
      "Episode 300 : Average performance -24.175\n",
      "Episode 400 : Average performance -23.91\n",
      "Episode 500 : Average performance -22.025\n",
      "Episode 600 : Average performance -23.865\n",
      "Episode 700 : Average performance -22.705\n",
      "Episode 800 : Average performance -20.32\n",
      "Episode 900 : Average performance -21.71\n",
      "Episode 1000 : Average performance -19.43\n",
      "Episode 1100 : Average performance -16.44\n",
      "Episode 1200 : Average performance -15.885\n",
      "Episode 1300 : Average performance -15.28\n",
      "Episode 1400 : Average performance -14.935\n",
      "Episode 1500 : Average performance -12.735\n",
      "Episode 1600 : Average performance -10.725\n",
      "Episode 1700 : Average performance -6.61\n",
      "Episode 1800 : Average performance -8.88\n",
      "Episode 1900 : Average performance -5.785\n",
      "Episode 2000 : Average performance -5.29\n",
      "Episode 2100 : Average performance -0.975\n",
      "Episode 2200 : Average performance -7.03\n",
      "Episode 2300 : Average performance -6.595\n",
      "Episode 2400 : Average performance -6.325\n",
      "Episode 2500 : Average performance -10.71\n",
      "Episode 2600 : Average performance -5.96\n",
      "Episode 2700 : Average performance -9.265\n",
      "Episode 2800 : Average performance -7.175\n",
      "Episode 2900 : Average performance -2.165\n",
      "Episode 3000 : Average performance -9.41\n",
      "Episode 3100 : Average performance -8.96\n",
      "Episode 3200 : Average performance -6.925\n",
      "Episode 3300 : Average performance -3.665\n",
      "Episode 3400 : Average performance -6.815\n",
      "Episode 3500 : Average performance -8.235\n",
      "Episode 3600 : Average performance -5.25\n",
      "Episode 3700 : Average performance -7.405\n",
      "Episode 3800 : Average performance -0.145\n",
      "Episode 3900 : Average performance -5.86\n",
      "Episode 4000 : Average performance -2.085\n",
      "Episode 4100 : Average performance -2.01\n",
      "Episode 4200 : Average performance -8.07\n",
      "Episode 4300 : Average performance -17.06\n",
      "Episode 4400 : Average performance -0.695\n",
      "Episode 4500 : Average performance -1.455\n",
      "Episode 4600 : Average performance -5.13\n",
      "Episode 4700 : Average performance -5.54\n",
      "Episode 4800 : Average performance -12.105\n",
      "Episode 4900 : Average performance -9.705\n",
      "Episode 5000 : Average performance -4.51\n",
      "Episode 5100 : Average performance -7.495\n",
      "Episode 5200 : Average performance -12.83\n",
      "Episode 5300 : Average performance -2.45\n",
      "Episode 5400 : Average performance -8.305\n",
      "Episode 5500 : Average performance -6.37\n",
      "Episode 5600 : Average performance -2.21\n",
      "Episode 5700 : Average performance -4.495\n",
      "Episode 5800 : Average performance -0.595\n",
      "Episode 5900 : Average performance -5.105\n",
      "Episode 6000 : Average performance -5.18\n",
      "Episode 6100 : Average performance -9.74\n",
      "Episode 6200 : Average performance -3.765\n",
      "Episode 6300 : Average performance -4.41\n",
      "Episode 6400 : Average performance -0.675\n",
      "Episode 6500 : Average performance -23.83\n",
      "Episode 6600 : Average performance -15.725\n",
      "Episode 6700 : Average performance -4.14\n",
      "Episode 6800 : Average performance -1.295\n",
      "Episode 6900 : Average performance -4.965\n",
      "Episode 7000 : Average performance -5.97\n",
      "Episode 7100 : Average performance -8.02\n",
      "Episode 7200 : Average performance -7.615\n",
      "Episode 7300 : Average performance -5.44\n",
      "Episode 7400 : Average performance -0.735\n",
      "Episode 7500 : Average performance -0.415\n",
      "Episode 7600 : Average performance -5.37\n",
      "Episode 7700 : Average performance -2.585\n",
      "Episode 7800 : Average performance -4.615\n",
      "Episode 7900 : Average performance -4.845\n",
      "Episode 8000 : Average performance -4.36\n",
      "Episode 8100 : Average performance -0.81\n",
      "Episode 8200 : Average performance -7.34\n",
      "Episode 8300 : Average performance -16.92\n",
      "Episode 8400 : Average performance -2.805\n",
      "Episode 8500 : Average performance -5.085\n",
      "Episode 8600 : Average performance -7.2\n",
      "Episode 8700 : Average performance -7.48\n",
      "Episode 8800 : Average performance -4.13\n",
      "Episode 8900 : Average performance -1.0\n",
      "Episode 9000 : Average performance -1.775\n",
      "Episode 9100 : Average performance -5.06\n",
      "Episode 9200 : Average performance -5.795\n",
      "Episode 9300 : Average performance -3.07\n",
      "Episode 9400 : Average performance -3.975\n",
      "Episode 9500 : Average performance 0.53\n",
      "Episode 9600 : Average performance -4.04\n",
      "Episode 9700 : Average performance -0.6\n",
      "Episode 9800 : Average performance 0.0\n",
      "Episode 9900 : Average performance 0.0\n",
      "Episode 10000 : Average performance 0.0\n",
      "Episode 10100 : Average performance 0.0\n",
      "Episode 10200 : Average performance 0.0\n",
      "Episode 10300 : Average performance 0.0\n",
      "Episode 10400 : Average performance 0.0\n",
      "Episode 10500 : Average performance 0.0\n",
      "Episode 10600 : Average performance 0.0\n",
      "Episode 10700 : Average performance 0.0\n",
      "Episode 10800 : Average performance 0.0\n",
      "Episode 10900 : Average performance 0.0\n",
      "Episode 11000 : Average performance 0.0\n",
      "Episode 11100 : Average performance 0.0\n",
      "Episode 11200 : Average performance 0.0\n",
      "Episode 11300 : Average performance 0.0\n",
      "Episode 11400 : Average performance 0.0\n",
      "Episode 11500 : Average performance 0.0\n",
      "Episode 11600 : Average performance 0.0\n",
      "Episode 11700 : Average performance 0.0\n",
      "Episode 11800 : Average performance 0.0\n",
      "Episode 11900 : Average performance 0.0\n",
      "Episode 12000 : Average performance 0.0\n",
      "Episode 12100 : Average performance 0.0\n",
      "Episode 12200 : Average performance 0.0\n",
      "Episode 12300 : Average performance 0.0\n",
      "Episode 12400 : Average performance 0.0\n",
      "Episode 12500 : Average performance 0.0\n",
      "Episode 12600 : Average performance 0.0\n",
      "Episode 12700 : Average performance 0.0\n",
      "Episode 12800 : Average performance 0.0\n",
      "Episode 12900 : Average performance 0.0\n",
      "Episode 13000 : Average performance 0.0\n",
      "Episode 13100 : Average performance 0.0\n",
      "Episode 13200 : Average performance 0.0\n",
      "Episode 13300 : Average performance 0.0\n",
      "Episode 13400 : Average performance 0.0\n",
      "Episode 13500 : Average performance 0.0\n",
      "Episode 13600 : Average performance 0.0\n",
      "Episode 13700 : Average performance 0.0\n",
      "Episode 13800 : Average performance 0.0\n",
      "Episode 13900 : Average performance 0.0\n",
      "Episode 14000 : Average performance 0.0\n",
      "Episode 14100 : Average performance 0.0\n",
      "Episode 14200 : Average performance 0.0\n",
      "Episode 14300 : Average performance 0.0\n",
      "Episode 14400 : Average performance 0.0\n",
      "Episode 14500 : Average performance 0.0\n",
      "Episode 14600 : Average performance 0.0\n",
      "Episode 14700 : Average performance 0.0\n",
      "Episode 14800 : Average performance 0.0\n",
      "Episode 14900 : Average performance 0.0\n",
      "Episode 15000 : Average performance 0.0\n",
      "Episode 15100 : Average performance 0.0\n",
      "Episode 15200 : Average performance 0.0\n",
      "Episode 15300 : Average performance 0.0\n",
      "Episode 15400 : Average performance 0.0\n",
      "Episode 15500 : Average performance 0.0\n",
      "Episode 15600 : Average performance 0.0\n",
      "Episode 15700 : Average performance 0.0\n",
      "Episode 15800 : Average performance 0.0\n",
      "Episode 15900 : Average performance 0.0\n",
      "Episode 16000 : Average performance 0.0\n",
      "Episode 16100 : Average performance 0.0\n",
      "Episode 16200 : Average performance 0.0\n",
      "Episode 16300 : Average performance 0.0\n",
      "Episode 16400 : Average performance 0.0\n",
      "Episode 16500 : Average performance 0.0\n",
      "Episode 16600 : Average performance 0.0\n",
      "Episode 16700 : Average performance 0.0\n",
      "Episode 16800 : Average performance 0.0\n",
      "Episode 16900 : Average performance 0.0\n",
      "Episode 17000 : Average performance 0.0\n",
      "Episode 17100 : Average performance 0.0\n",
      "Episode 17200 : Average performance 0.0\n",
      "Episode 17300 : Average performance 0.0\n",
      "Episode 17400 : Average performance 0.0\n",
      "Episode 17500 : Average performance 0.0\n",
      "Episode 17600 : Average performance 0.0\n",
      "Episode 17700 : Average performance 0.0\n",
      "Episode 17800 : Average performance 0.0\n",
      "Episode 17900 : Average performance 0.0\n",
      "Episode 18000 : Average performance 0.0\n",
      "Episode 18100 : Average performance 0.0\n",
      "Episode 18200 : Average performance 0.0\n",
      "Episode 18300 : Average performance 0.0\n",
      "Episode 18400 : Average performance 0.0\n",
      "Episode 18500 : Average performance 0.0\n",
      "Episode 18600 : Average performance 0.0\n",
      "Episode 18700 : Average performance 0.0\n",
      "Episode 18800 : Average performance 0.0\n",
      "Episode 18900 : Average performance 0.0\n",
      "Episode 19000 : Average performance 0.0\n",
      "Episode 19100 : Average performance 0.0\n",
      "Episode 19200 : Average performance 0.0\n",
      "Episode 19300 : Average performance 0.0\n",
      "Episode 19400 : Average performance 0.0\n",
      "Episode 19500 : Average performance 0.0\n",
      "Episode 19600 : Average performance 0.0\n",
      "Episode 19700 : Average performance 0.0\n",
      "Episode 19800 : Average performance 0.0\n",
      "Episode 19900 : Average performance 0.0\n",
      "Episode 20000 : Average performance 0.0\n",
      "Episode 20100 : Average performance 0.0\n",
      "Episode 20200 : Average performance 0.0\n",
      "Episode 20300 : Average performance 0.0\n",
      "Episode 20400 : Average performance 0.0\n",
      "Episode 20500 : Average performance 0.0\n",
      "Episode 20600 : Average performance 0.0\n",
      "Episode 20700 : Average performance 0.0\n",
      "Episode 20800 : Average performance 0.0\n",
      "Episode 20900 : Average performance 0.0\n",
      "Episode 21000 : Average performance 0.0\n",
      "Episode 21100 : Average performance 0.0\n",
      "Episode 21200 : Average performance 0.0\n",
      "Episode 21300 : Average performance 0.0\n",
      "Episode 21400 : Average performance 0.0\n",
      "Episode 21500 : Average performance 0.0\n",
      "Episode 21600 : Average performance 0.0\n",
      "Episode 21700 : Average performance 0.0\n",
      "Episode 21800 : Average performance 0.0\n",
      "Episode 21900 : Average performance 0.0\n",
      "Episode 22000 : Average performance 0.0\n",
      "Episode 22100 : Average performance 0.0\n",
      "Episode 22200 : Average performance 0.0\n",
      "Episode 22300 : Average performance 0.0\n",
      "Episode 22400 : Average performance 0.0\n",
      "Episode 22500 : Average performance 0.0\n",
      "Episode 22600 : Average performance 0.0\n",
      "Episode 22700 : Average performance 0.0\n",
      "Episode 22800 : Average performance 0.0\n",
      "Episode 22900 : Average performance 0.0\n",
      "Episode 23000 : Average performance 0.0\n",
      "Episode 23100 : Average performance 0.0\n",
      "Episode 23200 : Average performance 0.0\n",
      "Episode 23300 : Average performance 0.0\n",
      "Episode 23400 : Average performance 0.0\n",
      "Episode 23500 : Average performance 0.0\n",
      "Episode 23600 : Average performance 0.0\n",
      "Episode 23700 : Average performance 0.0\n",
      "Episode 23800 : Average performance 0.0\n",
      "Episode 23900 : Average performance 0.0\n",
      "Episode 24000 : Average performance 0.0\n",
      "Episode 24100 : Average performance 0.0\n",
      "Episode 24200 : Average performance 0.0\n",
      "Episode 24300 : Average performance 0.0\n",
      "Episode 24400 : Average performance 0.0\n",
      "Episode 24500 : Average performance 0.0\n",
      "Episode 24600 : Average performance 0.0\n",
      "Episode 24700 : Average performance 0.0\n",
      "Episode 24800 : Average performance 0.0\n",
      "Episode 24900 : Average performance 0.0\n"
     ]
    },
    {
     "data": {
      "text/plain": [
       "<Figure size 640x480 with 1 Axes>"
      ],
      "image/png": "[encoded data removed]"
     },
     "metadata": {},
     "output_type": "display_data"
    },
    {
     "ename": "SystemExit",
     "evalue": "0",
     "output_type": "error",
     "traceback": [
      "An exception has occurred, use %tb to see the full traceback.\n",
      "\u001B[31mSystemExit\u001B[39m\u001B[31m:\u001B[39m 0\n"
     ]
    },
    {
     "name": "stderr",
     "output_type": "stream",
     "text": [
      "C:\\Users\\enric\\AppData\\Local\\Packages\\PythonSoftwareFoundation.Python.3.12_qbz5n2kfra8p0\\LocalCache\\local-packages\\Python312\\site-packages\\IPython\\core\\interactiveshell.py:3675: UserWarning: To exit: use 'exit', 'quit', or Ctrl-D.\n",
      "  warn(\"To exit: use 'exit', 'quit', or Ctrl-D.\", stacklevel=1)\n"
     ]
    }
   ]
  },
  {
   "metadata": {},
   "cell_type": "code",
   "outputs": [],
   "execution_count": null,
   "source": [
    "name_specs = f'linear from 1 to 015 with 0999 as coefficient vn1 plus fd 1000 max iterations'\n",
    "model_path = f\"{models_path}QLearning gamma {gamma} lr {lr_v} epsilon {name_specs} 2nd\""
   ],
   "id": "51a7da3ef3fd396b"
  },
  {
   "metadata": {},
   "cell_type": "code",
   "outputs": [],
   "execution_count": null,
   "source": "Q_p.save(f\"{model_path}\")",
   "id": "22d9ebfefaa327b2"
  },
  {
   "metadata": {},
   "cell_type": "code",
   "outputs": [],
   "execution_count": null,
   "source": "Q_p.upload(f\"{model_path}\")",
   "id": "351dbaff94d2787"
  },
  {
   "metadata": {},
   "cell_type": "code",
   "outputs": [],
   "execution_count": null,
   "source": [
    "env = SnakeEnv(render_mode=\"human\", max_step=1000)\n",
    "Q_p.play(env, bracketer)"
   ],
   "id": "2fb075866166c940"
  },
  {
   "metadata": {},
   "cell_type": "code",
   "outputs": [],
   "execution_count": null,
   "source": "Q_p.print_q_values(bracketer)",
   "id": "572edab37a6e60b1"
  },
  {
   "metadata": {},
   "cell_type": "markdown",
   "source": "##  SARSA",
   "id": "d08747a7391c783d"
  },
  {
   "metadata": {},
   "cell_type": "code",
   "outputs": [],
   "execution_count": null,
   "source": [
    "# Environment\n",
    "epsilon_schedule = LinearEpsilonDecay(eps=1, coefficient=0.9999, minimum=0.30)\n",
    "env = SnakeEnv(render_mode=\"nonhuman\", max_step=1000)\n",
    "SARSA_p = SARSA(env.action_space.n, gamma=gamma, lr_v=lr_v)\n",
    "bracketer = FoodDirectionBracket()\n",
    "SARSA_p.learning(env, epsilon_schedule, n_episodes=50000, bracketer=bracketer)"
   ],
   "id": "1464d3f86b45b201"
  },
  {
   "metadata": {},
   "cell_type": "code",
   "outputs": [],
   "execution_count": null,
   "source": [
    "name_specs = f'linear from 1 to 030 with 09999 as coefficient vn1 plus fd 1000 max iterations'\n",
    "model_path = f\"{models_path}SARSA gamma {gamma} lr {lr_v} epsilon {name_specs}\""
   ],
   "id": "c86ec49f9d77362a"
  },
  {
   "metadata": {},
   "cell_type": "code",
   "outputs": [],
   "execution_count": null,
   "source": "SARSA.save(f\"{model_path}\")",
   "id": "edf118c9183d5c25"
  },
  {
   "metadata": {},
   "cell_type": "code",
   "outputs": [],
   "execution_count": null,
   "source": "SARSA.upload(f\"{model_path}\")",
   "id": "fd1ad1855e01dfad"
  },
  {
   "metadata": {},
   "cell_type": "code",
   "outputs": [],
   "execution_count": null,
   "source": [
    "env = SnakeEnv(render_mode=\"human\", max_step=1000)\n",
    "SARSA_p.play(env, bracketer)"
   ],
   "id": "11d960d5feaf82f9"
  },
  {
   "metadata": {},
   "cell_type": "code",
   "outputs": [],
   "execution_count": null,
   "source": "SARSA.print_q_values(bracketer)",
   "id": "84397cbeb2106010"
  },
  {
   "metadata": {},
   "cell_type": "markdown",
   "source": "## Monte Carlo",
   "id": "987ac82329f3a6ba"
  },
  {
   "metadata": {},
   "cell_type": "code",
   "outputs": [],
   "execution_count": null,
   "source": [
    "# Environment\n",
    "env = SnakeEnv(render_mode=\"nonhuman\")\n",
    "n_episodes = 5000\n",
    "bracketer = NeighPlusFoodDirectionBracket(neigh=\"V\", radius=1)\n",
    "MC = Montecarlo(env.action_space.n, gamma=gamma, lr_v=lr_v)"
   ],
   "id": "59cbc7be74ff5a6"
  },
  {
   "metadata": {},
   "cell_type": "code",
   "outputs": [],
   "execution_count": null,
   "source": "MC.learning(env, epsilon_schedule, n_episodes, bracketer)",
   "id": "182a3abe81ed491e"
  },
  {
   "metadata": {},
   "cell_type": "code",
   "outputs": [],
   "execution_count": null,
   "source": "model_path = f\"{models_path}MC gamma {gamma} lr {lr_v} epsilon {epsilon_schedule} episodes {n_episodes} bracketer {bracketer.__class__.__name__}\"",
   "id": "fdd39497982bc859"
  },
  {
   "metadata": {},
   "cell_type": "code",
   "outputs": [],
   "execution_count": null,
   "source": "MC.save(f\"{model_path}\")",
   "id": "8934eb2a7e5c0af7"
  },
  {
   "metadata": {},
   "cell_type": "code",
   "outputs": [],
   "execution_count": null,
   "source": "MC.upload(f\"{model_path}\")",
   "id": "9fe5a1874308237b"
  },
  {
   "metadata": {},
   "cell_type": "code",
   "outputs": [],
   "execution_count": null,
   "source": [
    "env = SnakeEnv(render_mode=\"human\")\n",
    "MC.play(env, bracketer)"
   ],
   "id": "75b12ff34f7f0d1b"
  },
  {
   "metadata": {},
   "cell_type": "code",
   "outputs": [],
   "execution_count": null,
   "source": "get_model_average_performance(model_name='MC', action_space=env.action_space.n, gamma=gamma, lr_v=lr_v, model_path=model_path, bracketer=bracketer, num_episodes=1000, render_mode='nonhuman')",
   "id": "770864e1817cc2d8"
  },
  {
   "metadata": {},
   "cell_type": "markdown",
   "source": "## Double Deep Q-Learning",
   "id": "a48d9c0f29fded8a"
  },
  {
   "metadata": {
    "ExecuteTime": {
     "end_time": "2025-06-17T13:47:38.889457Z",
     "start_time": "2025-06-17T13:47:38.619251Z"
    }
   },
   "cell_type": "code",
   "source": [
    "# Environment\n",
    "batch_size = 128\n",
    "memory_size = 10000\n",
    "target_update_freq = 200\n",
    "\n",
    "# Bracketer\n",
    "bracketer = NeighPlusFoodRelativePositionPlusTailBracket(neigh='M', radius=5)\n",
    "# General Settings\n",
    "gamma = 0.95\n",
    "lr_v = 0.001\n",
    "epsilon = 0.1\n",
    "n_episodes = 5000\n",
    "epsilon_schedule = LinearEpsilonDecay(eps=1, coefficient=0.999, minimum=0.05)\n",
    "device = \"cuda\" if torch.cuda.is_available() else \"cpu\"\n",
    "device = 'xpu' if torch.xpu.is_available() else device\n",
    "print(f\"Using device: {device}\")\n",
    "\n",
    "# Environment\n",
    "env = SnakeEnv(render_mode=\"nonhuman\")\n",
    "state_dim = bracketer.get_state_dim()"
   ],
   "id": "e2e4489f943f6111",
   "outputs": [
    {
     "name": "stdout",
     "output_type": "stream",
     "text": [
      "Using device: xpu\n"
     ]
    }
   ],
   "execution_count": 3
  },
  {
   "metadata": {
    "ExecuteTime": {
     "end_time": "2025-06-17T13:47:55.925868Z",
     "start_time": "2025-06-17T13:47:42.676254Z"
    }
   },
   "cell_type": "code",
   "source": [
    "ddql = DeepDoubleQLearning(\n",
    "    env.action_space.n,\n",
    "    state_dim=state_dim,\n",
    "    gamma=gamma,\n",
    "    lr_v=lr_v,\n",
    "    batch_size=batch_size,\n",
    "    memory_size=memory_size,\n",
    "    target_update_freq=target_update_freq,\n",
    "    device=device\n",
    ")"
   ],
   "id": "15dc6a7ae3fb3ddf",
   "outputs": [],
   "execution_count": 4
  },
  {
   "metadata": {
    "jupyter": {
     "is_executing": true
    }
   },
   "cell_type": "code",
   "source": [
    "env = SnakeEnv(render_mode='nonhuman', max_step=1000)\n",
    "ddql.learning(env, epsilon_schedule, n_episodes, bracketer)"
   ],
   "id": "f09f7c748221d137",
   "execution_count": null,
   "outputs": [
    {
     "name": "stdout",
     "output_type": "stream",
     "text": [
      "Episode 3100/5000 : epsilon 0.05 : Average performance 24.43\n"
     ]
    }
   ]
  },
  {
   "metadata": {
    "ExecuteTime": {
     "end_time": "2025-06-17T12:59:24.621026Z",
     "start_time": "2025-06-17T12:59:24.616029Z"
    }
   },
   "cell_type": "code",
   "source": "model_path = f\"{models_path}DDQL gamma {gamma} lr {lr_v} epsilon {epsilon} episodes {n_episodes} bracketer {bracketer.__class__.__name__}\"",
   "id": "6cdd5cc243444fbf",
   "outputs": [],
   "execution_count": 24
  },
  {
   "metadata": {
    "ExecuteTime": {
     "end_time": "2025-06-17T00:39:09.490829Z",
     "start_time": "2025-06-17T00:39:09.441536Z"
    }
   },
   "cell_type": "code",
   "source": "ddql.save(path=f'{model_path}')",
   "id": "7a6d43301af44166",
   "outputs": [],
   "execution_count": 7
  },
  {
   "metadata": {
    "ExecuteTime": {
     "end_time": "2025-06-17T12:59:26.825425Z",
     "start_time": "2025-06-17T12:59:26.806929Z"
    }
   },
   "cell_type": "code",
   "source": "ddql.upload(model_path)",
   "id": "8c7471ced1b66c13",
   "outputs": [],
   "execution_count": 25
  },
  {
   "metadata": {
    "ExecuteTime": {
     "end_time": "2025-06-17T12:50:28.521693Z",
     "start_time": "2025-06-17T12:50:04.401111Z"
    }
   },
   "cell_type": "code",
   "source": [
    "env = SnakeEnv(render_mode='human', max_step=1000)\n",
    "ddql.play(env, bracketer)"
   ],
   "id": "b243ce309fa9108e",
   "outputs": [
    {
     "data": {
      "text/plain": [
       "-5.5"
      ]
     },
     "execution_count": 20,
     "metadata": {},
     "output_type": "execute_result"
    }
   ],
   "execution_count": 20
  },
  {
   "metadata": {},
   "cell_type": "code",
   "source": [
    "get_model_average_performance(\n",
    "    model_name='DDQL',\n",
    "    action_space=env.action_space.n,\n",
    "    gamma=gamma,\n",
    "    lr_v=lr_v,\n",
    "    model_path=model_path,\n",
    "    bracketer=bracketer,\n",
    "    num_episodes=1000,\n",
    "    render_mode='nonhuman',\n",
    "    state_dim=state_dim,\n",
    "    batch_size=batch_size,\n",
    "    memory_size=memory_size,\n",
    "    target_update_freq=target_update_freq,\n",
    "    device=device\n",
    ")"
   ],
   "id": "1eecbedb2c2d1185",
   "execution_count": 26,
   "outputs": [
    {
     "name": "stdout",
     "output_type": "stream",
     "text": [
      "Episode 1000/1000\n"
     ]
    },
    {
     "data": {
      "text/plain": [
       "(15.573, 5.639)"
      ]
     },
     "execution_count": 26,
     "metadata": {},
     "output_type": "execute_result"
    }
   ]
  }
 ],
 "metadata": {
  "kernelspec": {
   "display_name": "Python 3",
   "language": "python",
   "name": "python3"
  },
  "language_info": {
   "codemirror_mode": {
    "name": "ipython",
    "version": 3
   },
   "file_extension": ".py",
   "mimetype": "text/x-python",
   "name": "python",
   "nbconvert_exporter": "python",
   "pygments_lexer": "ipython3",
   "version": "3.11.9"
  }
 },
 "nbformat": 4,
 "nbformat_minor": 5
}
